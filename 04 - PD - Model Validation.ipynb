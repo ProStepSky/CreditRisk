{
 "cells": [
  {
   "cell_type": "markdown",
   "metadata": {},
   "source": [
    "**Please visit https://ProStepSky.github.io/.**\n",
    "\n",
    "This work © 2024 by \"ProStepSky.github.io จัดทำโดย S.U.\" is licensed under [CC BY-NC-ND 4.0](http://creativecommons.org/licenses/by-nc-nd/4.0/)  \n",
    "(อ้างอิงแหล่งที่มา ห้ามนำไปใช้เพื่อการค้า และห้ามดัดแปลง)\n",
    "\n",
    "---"
   ]
  },
  {
   "cell_type": "markdown",
   "metadata": {},
   "source": [
    "# Import Libraries"
   ]
  },
  {
   "cell_type": "code",
   "execution_count": 1,
   "metadata": {},
   "outputs": [],
   "source": [
    "import numpy as np\n",
    "import pandas as pd"
   ]
  },
  {
   "cell_type": "code",
   "execution_count": 2,
   "metadata": {},
   "outputs": [],
   "source": [
    "# Suppress all warnings \n",
    "import warnings\n",
    "warnings.filterwarnings(\"ignore\")"
   ]
  },
  {
   "cell_type": "markdown",
   "metadata": {},
   "source": [
    "# Loading the Data and Selecting the Features"
   ]
  },
  {
   "cell_type": "markdown",
   "metadata": {},
   "source": [
    "### Import Data"
   ]
  },
  {
   "cell_type": "code",
   "execution_count": 3,
   "metadata": {},
   "outputs": [],
   "source": [
    "loan_data_inputs_train = pd.read_csv('./data/loan_data_inputs_train.csv', index_col = 0)\n",
    "loan_data_targets_train = pd.read_csv('./data/loan_data_targets_train.csv', index_col = 0)\n",
    "loan_data_inputs_test = pd.read_csv('./data/loan_data_inputs_test.csv', index_col = 0)\n",
    "loan_data_targets_test = pd.read_csv('./data/loan_data_targets_test.csv', index_col = 0)\n",
    "# index_col = 0, makes sure the 1st column of the csv will be used as index.\n",
    "\n",
    "# For old version conda environments that export target csv files without a column name,\n",
    "# use 'header = None' to prevent making the 1st row as a header.\n",
    "#loan_data_targets_train = pd.read_csv('./data/loan_data_targets_train.csv', index_col = 0, header = None)\n",
    "#loan_data_targets_test = pd.read_csv('./data/loan_data_targets_test.csv', index_col = 0, header = None)"
   ]
  },
  {
   "cell_type": "markdown",
   "metadata": {},
   "source": [
    "เปิด PD model (Logistic Regression model) จาก disk:"
   ]
  },
  {
   "cell_type": "code",
   "execution_count": 4,
   "metadata": {},
   "outputs": [],
   "source": [
    "from sklearn import linear_model\n",
    "import scipy.stats as stat\n",
    "\n",
    "class LogisticRegression_with_p_values:\n",
    "    \n",
    "    # Inherit everything from the original LogisticRegression class.\n",
    "    def __init__(self,*args,**kwargs):#,**kwargs):\n",
    "        \n",
    "        # -------------------------------------------------------\n",
    "        # This function will be provided upon request. Thank you.\n",
    "        # -------------------------------------------------------\n",
    "\n",
    "    # Overwrite .fit() with a function that calculate p-values.\n",
    "    def fit(self,X,y):\n",
    "        \n",
    "        # -------------------------------------------------------\n",
    "        # This function will be provided upon request. Thank you.\n",
    "        # -------------------------------------------------------"
   ]
  },
  {
   "cell_type": "code",
   "execution_count": 5,
   "metadata": {},
   "outputs": [],
   "source": [
    "import pickle"
   ]
  },
  {
   "cell_type": "code",
   "execution_count": 6,
   "metadata": {
    "scrolled": false
   },
   "outputs": [],
   "source": [
    "filehandler = open('./data/pd_model.pkl','rb')\n",
    "reg2 = pickle.load(filehandler)\n",
    "filehandler.close()"
   ]
  },
  {
   "cell_type": "markdown",
   "metadata": {},
   "source": [
    "---\n",
    "---\n",
    "---"
   ]
  },
  {
   "cell_type": "markdown",
   "metadata": {},
   "source": [
    "# ➡ <font color='dodgerblue'><u>PD Model Validation (Testing the Model)</u></font> ⬅"
   ]
  },
  {
   "cell_type": "markdown",
   "metadata": {},
   "source": [
    "### Out-of-sample validation (testing)"
   ]
  },
  {
   "cell_type": "markdown",
   "metadata": {},
   "source": [
    "สร้าง DataFrame เพื่อเก็บเพียงแค่ dummy variables ที่ใช้กับ Final PD Model ซึ่งคัดเลือกแล้วว่ามีส่วนช่วยในการทำนายการผิดนัดชำระหนี้:"
   ]
  },
  {
   "cell_type": "code",
   "execution_count": 7,
   "metadata": {},
   "outputs": [],
   "source": [
    "inputs_test_with_ref_cat = loan_data_inputs_test.loc[: , ['grade:A',\n",
    "'grade:B',\n",
    "'grade:C',\n",
    "'grade:D',\n",
    "'grade:E',\n",
    "'grade:F',\n",
    "'grade:G',\n",
    "'home_ownership:RENT_OTHER_NONE_ANY',\n",
    "'home_ownership:OWN',\n",
    "'home_ownership:MORTGAGE',\n",
    "'addr_state:ND_NE_IA_NV_FL_HI_AL',\n",
    "'addr_state:NM_VA',\n",
    "'addr_state:NY',\n",
    "'addr_state:OK_TN_MO_LA_MD_NC',\n",
    "'addr_state:CA',\n",
    "'addr_state:UT_KY_AZ_NJ',\n",
    "'addr_state:AR_MI_PA_OH_MN',\n",
    "'addr_state:RI_MA_DE_SD_IN',\n",
    "'addr_state:GA_WA_OR',\n",
    "'addr_state:WI_MT',\n",
    "'addr_state:TX',\n",
    "'addr_state:IL_CT',\n",
    "'addr_state:KS_SC_CO_VT_AK_MS',\n",
    "'addr_state:WV_NH_WY_DC_ME_ID',\n",
    "'verification_status:Not Verified',\n",
    "'verification_status:Source Verified',\n",
    "'verification_status:Verified',\n",
    "'purpose:smb_edu_mov_house_renew_wedd',\n",
    "'purpose:credit_card',\n",
    "'purpose:debt_consolidation',\n",
    "'purpose:oth_med_vacation',\n",
    "'purpose:homeimpv_majorpurch_car',\n",
    "'initial_list_status:f',\n",
    "'initial_list_status:w',\n",
    "'term:36',\n",
    "'term:60',\n",
    "'emp_length:0',\n",
    "'emp_length:1',\n",
    "'emp_length:2-4',\n",
    "'emp_length:5-6',\n",
    "'emp_length:7-9',\n",
    "'emp_length:10',\n",
    "'mths_since_issue_d:<38',\n",
    "'mths_since_issue_d:38-39',\n",
    "'mths_since_issue_d:40-41',\n",
    "'mths_since_issue_d:42-48',\n",
    "'mths_since_issue_d:49-52',\n",
    "'mths_since_issue_d:53-64',\n",
    "'mths_since_issue_d:65-84',\n",
    "'mths_since_issue_d:>84',\n",
    "'int_rate:<=9.548',\n",
    "'int_rate:9.548-12.025',\n",
    "'int_rate:12.025-15.74',\n",
    "'int_rate:15.74-20.281',\n",
    "'int_rate:>20.281',\n",
    "'mths_since_earliest_cr_line:<140',\n",
    "'mths_since_earliest_cr_line:141-184',\n",
    "'mths_since_earliest_cr_line:185-264',\n",
    "'mths_since_earliest_cr_line:265-352',\n",
    "'mths_since_earliest_cr_line:>352',\n",
    "'inq_last_6mths:0',\n",
    "'inq_last_6mths:1-2',\n",
    "'inq_last_6mths:3-6',\n",
    "'inq_last_6mths:>6',\n",
    "'acc_now_delinq:0',\n",
    "'acc_now_delinq:>=1',\n",
    "'total_rev_hi_lim:<=5K',\n",
    "'total_rev_hi_lim:5K-10K',\n",
    "'total_rev_hi_lim:10K-20K',\n",
    "'total_rev_hi_lim:20K-30K',\n",
    "'total_rev_hi_lim:30K-40K',\n",
    "'total_rev_hi_lim:40K-55K',\n",
    "'total_rev_hi_lim:55K-95K',\n",
    "'total_rev_hi_lim:>95K',\n",
    "'annual_inc:<20K',\n",
    "'annual_inc:20K-30K',\n",
    "'annual_inc:30K-40K',\n",
    "'annual_inc:40K-50K',\n",
    "'annual_inc:50K-60K',\n",
    "'annual_inc:60K-70K',\n",
    "'annual_inc:70K-80K',\n",
    "'annual_inc:80K-90K',\n",
    "'annual_inc:90K-100K',\n",
    "'annual_inc:100K-120K',\n",
    "'annual_inc:120K-140K',\n",
    "'annual_inc:>140K',\n",
    "'dti:<=1.4',\n",
    "'dti:1.4-3.5',\n",
    "'dti:3.5-7.7',\n",
    "'dti:7.7-10.5',\n",
    "'dti:10.5-16.1',\n",
    "'dti:16.1-20.3',\n",
    "'dti:20.3-22.4',\n",
    "'dti:22.4-35',\n",
    "'dti:>35',\n",
    "'mths_since_last_delinq:Missing',\n",
    "'mths_since_last_delinq:0-3',\n",
    "'mths_since_last_delinq:4-30',\n",
    "'mths_since_last_delinq:31-56',\n",
    "'mths_since_last_delinq:>=57',\n",
    "'mths_since_last_record:Missing',\n",
    "'mths_since_last_record:0-2',\n",
    "'mths_since_last_record:3-20',\n",
    "'mths_since_last_record:21-31',\n",
    "'mths_since_last_record:32-80',\n",
    "'mths_since_last_record:81-86',\n",
    "'mths_since_last_record:>86',\n",
    "]]"
   ]
  },
  {
   "cell_type": "markdown",
   "metadata": {},
   "source": [
    "สร้างตัวแปร ref_categories เก็บชื่อของ reference category dummy variables ที่ใช้กับ Final PD Model ซึ่งคัดเลือกแล้วว่ามีส่วนช่วยในการทำนายการผิดนัดชำระหนี้:"
   ]
  },
  {
   "cell_type": "code",
   "execution_count": 8,
   "metadata": {},
   "outputs": [],
   "source": [
    "ref_categories = ['grade:G',\n",
    "'home_ownership:RENT_OTHER_NONE_ANY',\n",
    "'addr_state:ND_NE_IA_NV_FL_HI_AL',\n",
    "'verification_status:Verified',\n",
    "'purpose:smb_edu_mov_house_renew_wedd',\n",
    "'initial_list_status:f',\n",
    "'term:60',\n",
    "'emp_length:0',\n",
    "'mths_since_issue_d:>84',     \n",
    "'int_rate:>20.281',\n",
    "'mths_since_earliest_cr_line:<140',\n",
    "'inq_last_6mths:>6',\n",
    "'acc_now_delinq:0',\n",
    "'total_rev_hi_lim:<=5K',\n",
    "'annual_inc:<20K',\n",
    "'dti:>35',\n",
    "'mths_since_last_delinq:0-3',\n",
    "'mths_since_last_record:0-2']"
   ]
  },
  {
   "cell_type": "markdown",
   "metadata": {},
   "source": [
    "ทำการ drop ตัวแปรที่เป็น reference category dummy variables:"
   ]
  },
  {
   "cell_type": "code",
   "execution_count": 9,
   "metadata": {},
   "outputs": [
    {
     "data": {
      "text/html": [
       "<div>\n",
       "<style scoped>\n",
       "    .dataframe tbody tr th:only-of-type {\n",
       "        vertical-align: middle;\n",
       "    }\n",
       "\n",
       "    .dataframe tbody tr th {\n",
       "        vertical-align: top;\n",
       "    }\n",
       "\n",
       "    .dataframe thead th {\n",
       "        text-align: right;\n",
       "    }\n",
       "</style>\n",
       "<table border=\"1\" class=\"dataframe\">\n",
       "  <thead>\n",
       "    <tr style=\"text-align: right;\">\n",
       "      <th></th>\n",
       "      <th>grade:A</th>\n",
       "      <th>grade:B</th>\n",
       "      <th>grade:C</th>\n",
       "      <th>grade:D</th>\n",
       "      <th>grade:E</th>\n",
       "      <th>grade:F</th>\n",
       "      <th>home_ownership:OWN</th>\n",
       "      <th>home_ownership:MORTGAGE</th>\n",
       "      <th>addr_state:NM_VA</th>\n",
       "      <th>addr_state:NY</th>\n",
       "      <th>...</th>\n",
       "      <th>mths_since_last_delinq:Missing</th>\n",
       "      <th>mths_since_last_delinq:4-30</th>\n",
       "      <th>mths_since_last_delinq:31-56</th>\n",
       "      <th>mths_since_last_delinq:&gt;=57</th>\n",
       "      <th>mths_since_last_record:Missing</th>\n",
       "      <th>mths_since_last_record:3-20</th>\n",
       "      <th>mths_since_last_record:21-31</th>\n",
       "      <th>mths_since_last_record:32-80</th>\n",
       "      <th>mths_since_last_record:81-86</th>\n",
       "      <th>mths_since_last_record:&gt;86</th>\n",
       "    </tr>\n",
       "  </thead>\n",
       "  <tbody>\n",
       "    <tr>\n",
       "      <th>362514</th>\n",
       "      <td>False</td>\n",
       "      <td>False</td>\n",
       "      <td>True</td>\n",
       "      <td>False</td>\n",
       "      <td>False</td>\n",
       "      <td>False</td>\n",
       "      <td>False</td>\n",
       "      <td>True</td>\n",
       "      <td>0</td>\n",
       "      <td>False</td>\n",
       "      <td>...</td>\n",
       "      <td>1</td>\n",
       "      <td>0</td>\n",
       "      <td>0</td>\n",
       "      <td>0</td>\n",
       "      <td>1</td>\n",
       "      <td>0</td>\n",
       "      <td>0</td>\n",
       "      <td>0</td>\n",
       "      <td>0</td>\n",
       "      <td>0</td>\n",
       "    </tr>\n",
       "    <tr>\n",
       "      <th>288564</th>\n",
       "      <td>False</td>\n",
       "      <td>False</td>\n",
       "      <td>False</td>\n",
       "      <td>False</td>\n",
       "      <td>True</td>\n",
       "      <td>False</td>\n",
       "      <td>False</td>\n",
       "      <td>True</td>\n",
       "      <td>0</td>\n",
       "      <td>False</td>\n",
       "      <td>...</td>\n",
       "      <td>0</td>\n",
       "      <td>0</td>\n",
       "      <td>0</td>\n",
       "      <td>0</td>\n",
       "      <td>1</td>\n",
       "      <td>0</td>\n",
       "      <td>0</td>\n",
       "      <td>0</td>\n",
       "      <td>0</td>\n",
       "      <td>0</td>\n",
       "    </tr>\n",
       "    <tr>\n",
       "      <th>213591</th>\n",
       "      <td>False</td>\n",
       "      <td>False</td>\n",
       "      <td>True</td>\n",
       "      <td>False</td>\n",
       "      <td>False</td>\n",
       "      <td>False</td>\n",
       "      <td>False</td>\n",
       "      <td>True</td>\n",
       "      <td>0</td>\n",
       "      <td>False</td>\n",
       "      <td>...</td>\n",
       "      <td>0</td>\n",
       "      <td>0</td>\n",
       "      <td>1</td>\n",
       "      <td>0</td>\n",
       "      <td>1</td>\n",
       "      <td>0</td>\n",
       "      <td>0</td>\n",
       "      <td>0</td>\n",
       "      <td>0</td>\n",
       "      <td>0</td>\n",
       "    </tr>\n",
       "    <tr>\n",
       "      <th>263083</th>\n",
       "      <td>False</td>\n",
       "      <td>False</td>\n",
       "      <td>True</td>\n",
       "      <td>False</td>\n",
       "      <td>False</td>\n",
       "      <td>False</td>\n",
       "      <td>False</td>\n",
       "      <td>True</td>\n",
       "      <td>0</td>\n",
       "      <td>False</td>\n",
       "      <td>...</td>\n",
       "      <td>1</td>\n",
       "      <td>0</td>\n",
       "      <td>0</td>\n",
       "      <td>0</td>\n",
       "      <td>1</td>\n",
       "      <td>0</td>\n",
       "      <td>0</td>\n",
       "      <td>0</td>\n",
       "      <td>0</td>\n",
       "      <td>0</td>\n",
       "    </tr>\n",
       "    <tr>\n",
       "      <th>165001</th>\n",
       "      <td>True</td>\n",
       "      <td>False</td>\n",
       "      <td>False</td>\n",
       "      <td>False</td>\n",
       "      <td>False</td>\n",
       "      <td>False</td>\n",
       "      <td>False</td>\n",
       "      <td>True</td>\n",
       "      <td>0</td>\n",
       "      <td>False</td>\n",
       "      <td>...</td>\n",
       "      <td>0</td>\n",
       "      <td>0</td>\n",
       "      <td>1</td>\n",
       "      <td>0</td>\n",
       "      <td>1</td>\n",
       "      <td>0</td>\n",
       "      <td>0</td>\n",
       "      <td>0</td>\n",
       "      <td>0</td>\n",
       "      <td>0</td>\n",
       "    </tr>\n",
       "  </tbody>\n",
       "</table>\n",
       "<p>5 rows × 89 columns</p>\n",
       "</div>"
      ],
      "text/plain": [
       "        grade:A  grade:B  grade:C  grade:D  grade:E  grade:F  \\\n",
       "362514    False    False     True    False    False    False   \n",
       "288564    False    False    False    False     True    False   \n",
       "213591    False    False     True    False    False    False   \n",
       "263083    False    False     True    False    False    False   \n",
       "165001     True    False    False    False    False    False   \n",
       "\n",
       "        home_ownership:OWN  home_ownership:MORTGAGE  addr_state:NM_VA  \\\n",
       "362514               False                     True                 0   \n",
       "288564               False                     True                 0   \n",
       "213591               False                     True                 0   \n",
       "263083               False                     True                 0   \n",
       "165001               False                     True                 0   \n",
       "\n",
       "        addr_state:NY  ...  mths_since_last_delinq:Missing  \\\n",
       "362514          False  ...                               1   \n",
       "288564          False  ...                               0   \n",
       "213591          False  ...                               0   \n",
       "263083          False  ...                               1   \n",
       "165001          False  ...                               0   \n",
       "\n",
       "        mths_since_last_delinq:4-30  mths_since_last_delinq:31-56  \\\n",
       "362514                            0                             0   \n",
       "288564                            0                             0   \n",
       "213591                            0                             1   \n",
       "263083                            0                             0   \n",
       "165001                            0                             1   \n",
       "\n",
       "        mths_since_last_delinq:>=57  mths_since_last_record:Missing  \\\n",
       "362514                            0                               1   \n",
       "288564                            0                               1   \n",
       "213591                            0                               1   \n",
       "263083                            0                               1   \n",
       "165001                            0                               1   \n",
       "\n",
       "        mths_since_last_record:3-20  mths_since_last_record:21-31  \\\n",
       "362514                            0                             0   \n",
       "288564                            0                             0   \n",
       "213591                            0                             0   \n",
       "263083                            0                             0   \n",
       "165001                            0                             0   \n",
       "\n",
       "        mths_since_last_record:32-80  mths_since_last_record:81-86  \\\n",
       "362514                             0                             0   \n",
       "288564                             0                             0   \n",
       "213591                             0                             0   \n",
       "263083                             0                             0   \n",
       "165001                             0                             0   \n",
       "\n",
       "        mths_since_last_record:>86  \n",
       "362514                           0  \n",
       "288564                           0  \n",
       "213591                           0  \n",
       "263083                           0  \n",
       "165001                           0  \n",
       "\n",
       "[5 rows x 89 columns]"
      ]
     },
     "execution_count": 9,
     "metadata": {},
     "output_type": "execute_result"
    }
   ],
   "source": [
    "inputs_test = inputs_test_with_ref_cat.drop(ref_categories, axis = 1)\n",
    "inputs_test.head()"
   ]
  },
  {
   "cell_type": "markdown",
   "metadata": {},
   "source": [
    "ทำการทำนาย Probability of Default (PD) สำหรับแต่ละผู้ขอกู้จาก test dataset (ทำนายโดยใช้ default cut-off ที่ 50%; นั่นคือ <= 50% จะทำนายว่าผิดนัดชำระหนี้; นั่นคือ bad borrower = 0 และ good borrower = 1):"
   ]
  },
  {
   "cell_type": "code",
   "execution_count": 10,
   "metadata": {},
   "outputs": [],
   "source": [
    "y_hat_test = reg2.model.predict(inputs_test)"
   ]
  },
  {
   "cell_type": "code",
   "execution_count": 11,
   "metadata": {
    "scrolled": true
   },
   "outputs": [
    {
     "data": {
      "text/plain": [
       "array([1, 1, 1, ..., 1, 1, 1], dtype=int64)"
      ]
     },
     "execution_count": 11,
     "metadata": {},
     "output_type": "execute_result"
    }
   ],
   "source": [
    "y_hat_test"
   ]
  },
  {
   "cell_type": "markdown",
   "metadata": {},
   "source": [
    "ทำการทำนาย Probability of Default (PD) สำหรับแต่ละผู้ขอกู้จาก test dataset (โดยจะไม่ทำนายเป็นผลลัพธ์ว่าผิดหรือไม่ผิดนัดชำระหนี้ แต่จะให้ผลลัพธ์คือความน่าจะเป็นดิบ หรือ raw probabilities):"
   ]
  },
  {
   "cell_type": "code",
   "execution_count": 12,
   "metadata": {},
   "outputs": [],
   "source": [
    "y_hat_test_proba = reg2.model.predict_proba(inputs_test)"
   ]
  },
  {
   "cell_type": "code",
   "execution_count": 13,
   "metadata": {},
   "outputs": [
    {
     "data": {
      "text/plain": [
       "array([[0.08072197, 0.91927803],\n",
       "       [0.13824394, 0.86175606],\n",
       "       [0.1162796 , 0.8837204 ],\n",
       "       ...,\n",
       "       [0.02431967, 0.97568033],\n",
       "       [0.04256716, 0.95743284],\n",
       "       [0.05009425, 0.94990575]])"
      ]
     },
     "execution_count": 13,
     "metadata": {},
     "output_type": "execute_result"
    }
   ],
   "source": [
    "y_hat_test_proba"
   ]
  },
  {
   "cell_type": "markdown",
   "metadata": {},
   "source": [
    "จาก array ข้างบน:\n",
    "- column แรกคือ Probability of Default (PD) หรือความน่าจะเป็นที่จะเป็น bad borrower\n",
    "- column ที่สองคือ 1-PD หรือความน่าจะเป็นที่จะเป็น good borrower"
   ]
  },
  {
   "cell_type": "markdown",
   "metadata": {},
   "source": [
    "เลือกเก็บเฉพาะ column ที่สอง (ความน่าจะเป็นที่จะเป็น good borrower):"
   ]
  },
  {
   "cell_type": "code",
   "execution_count": 14,
   "metadata": {},
   "outputs": [
    {
     "data": {
      "text/plain": [
       "array([0.91927803, 0.86175606, 0.8837204 , ..., 0.97568033, 0.95743284,\n",
       "       0.94990575])"
      ]
     },
     "execution_count": 14,
     "metadata": {},
     "output_type": "execute_result"
    }
   ],
   "source": [
    "y_hat_test_proba[:][:,1]"
   ]
  },
  {
   "cell_type": "code",
   "execution_count": 15,
   "metadata": {},
   "outputs": [],
   "source": [
    "y_hat_test_proba = y_hat_test_proba[: ][: , 1]"
   ]
  },
  {
   "cell_type": "code",
   "execution_count": 16,
   "metadata": {
    "scrolled": true
   },
   "outputs": [
    {
     "data": {
      "text/plain": [
       "array([0.91927803, 0.86175606, 0.8837204 , ..., 0.97568033, 0.95743284,\n",
       "       0.94990575])"
      ]
     },
     "execution_count": 16,
     "metadata": {},
     "output_type": "execute_result"
    }
   ],
   "source": [
    "y_hat_test_proba"
   ]
  },
  {
   "cell_type": "markdown",
   "metadata": {},
   "source": [
    "ทำการรวมค่าจริง (loan_data_targets_test) กับค่าทำนาย (y_hat_test_proba) ไว้ใน DataFrame เดียวกัน:"
   ]
  },
  {
   "cell_type": "code",
   "execution_count": 17,
   "metadata": {},
   "outputs": [],
   "source": [
    "loan_data_targets_test_temp = loan_data_targets_test"
   ]
  },
  {
   "cell_type": "code",
   "execution_count": 18,
   "metadata": {},
   "outputs": [],
   "source": [
    "loan_data_targets_test_temp.reset_index(drop = True, inplace = True)"
   ]
  },
  {
   "cell_type": "code",
   "execution_count": 19,
   "metadata": {},
   "outputs": [],
   "source": [
    "df_actual_predicted_probs = pd.concat([loan_data_targets_test_temp, pd.DataFrame(y_hat_test_proba)], axis = 1)"
   ]
  },
  {
   "cell_type": "code",
   "execution_count": 20,
   "metadata": {},
   "outputs": [
    {
     "data": {
      "text/plain": [
       "(93257, 2)"
      ]
     },
     "execution_count": 20,
     "metadata": {},
     "output_type": "execute_result"
    }
   ],
   "source": [
    "df_actual_predicted_probs.shape"
   ]
  },
  {
   "cell_type": "code",
   "execution_count": 21,
   "metadata": {},
   "outputs": [],
   "source": [
    "df_actual_predicted_probs.columns = ['loan_data_targets_test', 'y_hat_test_proba']"
   ]
  },
  {
   "cell_type": "code",
   "execution_count": 22,
   "metadata": {},
   "outputs": [],
   "source": [
    "# Make the index of one DataFrame equal to the index of another DataFrame.\n",
    "df_actual_predicted_probs.index = loan_data_inputs_test.index"
   ]
  },
  {
   "cell_type": "code",
   "execution_count": 23,
   "metadata": {
    "scrolled": true
   },
   "outputs": [
    {
     "data": {
      "text/html": [
       "<div>\n",
       "<style scoped>\n",
       "    .dataframe tbody tr th:only-of-type {\n",
       "        vertical-align: middle;\n",
       "    }\n",
       "\n",
       "    .dataframe tbody tr th {\n",
       "        vertical-align: top;\n",
       "    }\n",
       "\n",
       "    .dataframe thead th {\n",
       "        text-align: right;\n",
       "    }\n",
       "</style>\n",
       "<table border=\"1\" class=\"dataframe\">\n",
       "  <thead>\n",
       "    <tr style=\"text-align: right;\">\n",
       "      <th></th>\n",
       "      <th>loan_data_targets_test</th>\n",
       "      <th>y_hat_test_proba</th>\n",
       "    </tr>\n",
       "  </thead>\n",
       "  <tbody>\n",
       "    <tr>\n",
       "      <th>362514</th>\n",
       "      <td>1</td>\n",
       "      <td>0.919278</td>\n",
       "    </tr>\n",
       "    <tr>\n",
       "      <th>288564</th>\n",
       "      <td>1</td>\n",
       "      <td>0.861756</td>\n",
       "    </tr>\n",
       "    <tr>\n",
       "      <th>213591</th>\n",
       "      <td>1</td>\n",
       "      <td>0.883720</td>\n",
       "    </tr>\n",
       "    <tr>\n",
       "      <th>263083</th>\n",
       "      <td>1</td>\n",
       "      <td>0.934505</td>\n",
       "    </tr>\n",
       "    <tr>\n",
       "      <th>165001</th>\n",
       "      <td>1</td>\n",
       "      <td>0.967827</td>\n",
       "    </tr>\n",
       "  </tbody>\n",
       "</table>\n",
       "</div>"
      ],
      "text/plain": [
       "        loan_data_targets_test  y_hat_test_proba\n",
       "362514                       1          0.919278\n",
       "288564                       1          0.861756\n",
       "213591                       1          0.883720\n",
       "263083                       1          0.934505\n",
       "165001                       1          0.967827"
      ]
     },
     "execution_count": 23,
     "metadata": {},
     "output_type": "execute_result"
    }
   ],
   "source": [
    "df_actual_predicted_probs.head()"
   ]
  },
  {
   "cell_type": "markdown",
   "metadata": {},
   "source": [
    "### Accuracy and Area under the Curve"
   ]
  },
  {
   "cell_type": "markdown",
   "metadata": {},
   "source": [
    "#### ทำนาย Probability of Default (PD) โดยใช้ threshold หรือ cut-off probability เท่ากับ 50%:"
   ]
  },
  {
   "cell_type": "code",
   "execution_count": 24,
   "metadata": {},
   "outputs": [],
   "source": [
    "tr = 0.5\n",
    "df_actual_predicted_probs['y_hat_test'] = np.where(df_actual_predicted_probs['y_hat_test_proba'] > tr, 1, 0)"
   ]
  },
  {
   "cell_type": "markdown",
   "metadata": {},
   "source": [
    "แสดง confusion matrix:"
   ]
  },
  {
   "cell_type": "code",
   "execution_count": 25,
   "metadata": {
    "scrolled": false
   },
   "outputs": [
    {
     "data": {
      "text/html": [
       "<div>\n",
       "<style scoped>\n",
       "    .dataframe tbody tr th:only-of-type {\n",
       "        vertical-align: middle;\n",
       "    }\n",
       "\n",
       "    .dataframe tbody tr th {\n",
       "        vertical-align: top;\n",
       "    }\n",
       "\n",
       "    .dataframe thead th {\n",
       "        text-align: right;\n",
       "    }\n",
       "</style>\n",
       "<table border=\"1\" class=\"dataframe\">\n",
       "  <thead>\n",
       "    <tr style=\"text-align: right;\">\n",
       "      <th>Predicted</th>\n",
       "      <th>0</th>\n",
       "      <th>1</th>\n",
       "    </tr>\n",
       "    <tr>\n",
       "      <th>Actual</th>\n",
       "      <th></th>\n",
       "      <th></th>\n",
       "    </tr>\n",
       "  </thead>\n",
       "  <tbody>\n",
       "    <tr>\n",
       "      <th>0</th>\n",
       "      <td>6</td>\n",
       "      <td>10184</td>\n",
       "    </tr>\n",
       "    <tr>\n",
       "      <th>1</th>\n",
       "      <td>5</td>\n",
       "      <td>83062</td>\n",
       "    </tr>\n",
       "  </tbody>\n",
       "</table>\n",
       "</div>"
      ],
      "text/plain": [
       "Predicted  0      1\n",
       "Actual             \n",
       "0          6  10184\n",
       "1          5  83062"
      ]
     },
     "execution_count": 25,
     "metadata": {},
     "output_type": "execute_result"
    }
   ],
   "source": [
    "pd.crosstab(df_actual_predicted_probs['loan_data_targets_test'],\n",
    "            df_actual_predicted_probs['y_hat_test'],\n",
    "            rownames = ['Actual'],\n",
    "            colnames = ['Predicted'])"
   ]
  },
  {
   "cell_type": "markdown",
   "metadata": {},
   "source": [
    "จาก confusion matrix พบว่า:\n",
    "\n",
    "จากจำนวน bad borrowers ทั้งหมด, มีเพียง 6 คนเท่านั้นที่ทำนายได้ถูกต้องว่าเป็น bad, ในขณะที่ 10,184 คนทำนายผิดว่าเป็น good\n",
    "\n",
    "นั่นคือ มีจำนวน false positive ที่สูงมาก ซึ่งเป็นปัญหาที่ใหญ่มาก (เป็นเพราะว่าใน dataset นี้ มีผู้ขอกู้จำนวนน้อยที่จะผิดนัดชำระหนี้ ทำให้ model เรียนรู้แล้วจำแนกเคสส่วนใหญ่ให้เป็น good)\n",
    "\n",
    "นี่แสดงให้เห็นว่า หากใช้ threshold หรือ cut-off ที่ default เท่ากับ 50% นั้น จะทำให้ bad borrowers จำนวนมากได้รับการอนุมัติ ซึ่งเป็นเรื่องที่ไม่สามารถยอมให้เกิดขึ้นได้"
   ]
  },
  {
   "cell_type": "markdown",
   "metadata": {},
   "source": [
    "แสดง confusion matrix (แสดงเป็นสัดส่วนต่อผู้ขอกู้ทั้งหมด):"
   ]
  },
  {
   "cell_type": "code",
   "execution_count": 26,
   "metadata": {
    "scrolled": false
   },
   "outputs": [
    {
     "data": {
      "text/html": [
       "<div>\n",
       "<style scoped>\n",
       "    .dataframe tbody tr th:only-of-type {\n",
       "        vertical-align: middle;\n",
       "    }\n",
       "\n",
       "    .dataframe tbody tr th {\n",
       "        vertical-align: top;\n",
       "    }\n",
       "\n",
       "    .dataframe thead th {\n",
       "        text-align: right;\n",
       "    }\n",
       "</style>\n",
       "<table border=\"1\" class=\"dataframe\">\n",
       "  <thead>\n",
       "    <tr style=\"text-align: right;\">\n",
       "      <th>Predicted</th>\n",
       "      <th>0</th>\n",
       "      <th>1</th>\n",
       "    </tr>\n",
       "    <tr>\n",
       "      <th>Actual</th>\n",
       "      <th></th>\n",
       "      <th></th>\n",
       "    </tr>\n",
       "  </thead>\n",
       "  <tbody>\n",
       "    <tr>\n",
       "      <th>0</th>\n",
       "      <td>0.000064</td>\n",
       "      <td>0.109204</td>\n",
       "    </tr>\n",
       "    <tr>\n",
       "      <th>1</th>\n",
       "      <td>0.000054</td>\n",
       "      <td>0.890678</td>\n",
       "    </tr>\n",
       "  </tbody>\n",
       "</table>\n",
       "</div>"
      ],
      "text/plain": [
       "Predicted         0         1\n",
       "Actual                       \n",
       "0          0.000064  0.109204\n",
       "1          0.000054  0.890678"
      ]
     },
     "execution_count": 26,
     "metadata": {},
     "output_type": "execute_result"
    }
   ],
   "source": [
    "pd.crosstab(df_actual_predicted_probs['loan_data_targets_test'],\n",
    "            df_actual_predicted_probs['y_hat_test'],\n",
    "            rownames = ['Actual'],\n",
    "            colnames = ['Predicted']) / df_actual_predicted_probs.shape[0]"
   ]
  },
  {
   "cell_type": "markdown",
   "metadata": {},
   "source": [
    "คำนวณค่า accuracy ของ model ตัวนี้ (สัดส่วนของจำนวนที่ทำนายถูกทั้งหมดต่อผู้ขอกู้ทั้งหมด):"
   ]
  },
  {
   "cell_type": "code",
   "execution_count": 27,
   "metadata": {
    "scrolled": true
   },
   "outputs": [
    {
     "data": {
      "text/plain": [
       "0.8907427860643169"
      ]
     },
     "execution_count": 27,
     "metadata": {},
     "output_type": "execute_result"
    }
   ],
   "source": [
    "# True Negative\n",
    "tn = (pd.crosstab(df_actual_predicted_probs['loan_data_targets_test'],\n",
    "                  df_actual_predicted_probs['y_hat_test'],\n",
    "                  rownames = ['Actual'],\n",
    "                  colnames = ['Predicted']) / df_actual_predicted_probs.shape[0]).iloc[0, 0]\n",
    "\n",
    "# True Positive\n",
    "tp = (pd.crosstab(df_actual_predicted_probs['loan_data_targets_test'],\n",
    "                  df_actual_predicted_probs['y_hat_test'],\n",
    "                  rownames = ['Actual'],\n",
    "                  colnames = ['Predicted']) / df_actual_predicted_probs.shape[0]).iloc[1, 1]\n",
    "\n",
    "tn + tp"
   ]
  },
  {
   "cell_type": "markdown",
   "metadata": {},
   "source": [
    "---"
   ]
  },
  {
   "cell_type": "markdown",
   "metadata": {},
   "source": [
    "#### ทำนาย Probability of Default (PD) โดยใช้ threshold หรือ cut-off probability เท่ากับ 90%:"
   ]
  },
  {
   "cell_type": "code",
   "execution_count": 28,
   "metadata": {},
   "outputs": [],
   "source": [
    "tr = 0.9\n",
    "df_actual_predicted_probs['y_hat_test'] = np.where(df_actual_predicted_probs['y_hat_test_proba'] > tr, 1, 0)"
   ]
  },
  {
   "cell_type": "markdown",
   "metadata": {},
   "source": [
    "แสดง confusion matrix:"
   ]
  },
  {
   "cell_type": "code",
   "execution_count": 29,
   "metadata": {
    "scrolled": true
   },
   "outputs": [
    {
     "data": {
      "text/html": [
       "<div>\n",
       "<style scoped>\n",
       "    .dataframe tbody tr th:only-of-type {\n",
       "        vertical-align: middle;\n",
       "    }\n",
       "\n",
       "    .dataframe tbody tr th {\n",
       "        vertical-align: top;\n",
       "    }\n",
       "\n",
       "    .dataframe thead th {\n",
       "        text-align: right;\n",
       "    }\n",
       "</style>\n",
       "<table border=\"1\" class=\"dataframe\">\n",
       "  <thead>\n",
       "    <tr style=\"text-align: right;\">\n",
       "      <th>Predicted</th>\n",
       "      <th>0</th>\n",
       "      <th>1</th>\n",
       "    </tr>\n",
       "    <tr>\n",
       "      <th>Actual</th>\n",
       "      <th></th>\n",
       "      <th></th>\n",
       "    </tr>\n",
       "  </thead>\n",
       "  <tbody>\n",
       "    <tr>\n",
       "      <th>0</th>\n",
       "      <td>7355</td>\n",
       "      <td>2835</td>\n",
       "    </tr>\n",
       "    <tr>\n",
       "      <th>1</th>\n",
       "      <td>35799</td>\n",
       "      <td>47268</td>\n",
       "    </tr>\n",
       "  </tbody>\n",
       "</table>\n",
       "</div>"
      ],
      "text/plain": [
       "Predicted      0      1\n",
       "Actual                 \n",
       "0           7355   2835\n",
       "1          35799  47268"
      ]
     },
     "execution_count": 29,
     "metadata": {},
     "output_type": "execute_result"
    }
   ],
   "source": [
    "pd.crosstab(df_actual_predicted_probs['loan_data_targets_test'],\n",
    "            df_actual_predicted_probs['y_hat_test'],\n",
    "            rownames = ['Actual'],\n",
    "            colnames = ['Predicted'])"
   ]
  },
  {
   "cell_type": "markdown",
   "metadata": {},
   "source": [
    "แสดง confusion matrix (แสดงเป็นสัดส่วนต่อผู้ขอกู้ทั้งหมด):"
   ]
  },
  {
   "cell_type": "code",
   "execution_count": 30,
   "metadata": {
    "scrolled": false
   },
   "outputs": [
    {
     "data": {
      "text/html": [
       "<div>\n",
       "<style scoped>\n",
       "    .dataframe tbody tr th:only-of-type {\n",
       "        vertical-align: middle;\n",
       "    }\n",
       "\n",
       "    .dataframe tbody tr th {\n",
       "        vertical-align: top;\n",
       "    }\n",
       "\n",
       "    .dataframe thead th {\n",
       "        text-align: right;\n",
       "    }\n",
       "</style>\n",
       "<table border=\"1\" class=\"dataframe\">\n",
       "  <thead>\n",
       "    <tr style=\"text-align: right;\">\n",
       "      <th>Predicted</th>\n",
       "      <th>0</th>\n",
       "      <th>1</th>\n",
       "    </tr>\n",
       "    <tr>\n",
       "      <th>Actual</th>\n",
       "      <th></th>\n",
       "      <th></th>\n",
       "    </tr>\n",
       "  </thead>\n",
       "  <tbody>\n",
       "    <tr>\n",
       "      <th>0</th>\n",
       "      <td>0.078868</td>\n",
       "      <td>0.030400</td>\n",
       "    </tr>\n",
       "    <tr>\n",
       "      <th>1</th>\n",
       "      <td>0.383875</td>\n",
       "      <td>0.506857</td>\n",
       "    </tr>\n",
       "  </tbody>\n",
       "</table>\n",
       "</div>"
      ],
      "text/plain": [
       "Predicted         0         1\n",
       "Actual                       \n",
       "0          0.078868  0.030400\n",
       "1          0.383875  0.506857"
      ]
     },
     "execution_count": 30,
     "metadata": {},
     "output_type": "execute_result"
    }
   ],
   "source": [
    "pd.crosstab(df_actual_predicted_probs['loan_data_targets_test'],\n",
    "            df_actual_predicted_probs['y_hat_test'],\n",
    "            rownames = ['Actual'],\n",
    "            colnames = ['Predicted']) / df_actual_predicted_probs.shape[0]"
   ]
  },
  {
   "cell_type": "markdown",
   "metadata": {},
   "source": [
    "คำนวณค่า accuracy ของ model ตัวนี้ (สัดส่วนของจำนวนที่ทำนายถูกทั้งหมดต่อผู้ขอกู้ทั้งหมด):"
   ]
  },
  {
   "cell_type": "code",
   "execution_count": 31,
   "metadata": {},
   "outputs": [
    {
     "data": {
      "text/plain": [
       "0.5857254683294552"
      ]
     },
     "execution_count": 31,
     "metadata": {},
     "output_type": "execute_result"
    }
   ],
   "source": [
    "# True Negative\n",
    "tn = (pd.crosstab(df_actual_predicted_probs['loan_data_targets_test'],\n",
    "                  df_actual_predicted_probs['y_hat_test'],\n",
    "                  rownames = ['Actual'],\n",
    "                  colnames = ['Predicted']) / df_actual_predicted_probs.shape[0]).iloc[0, 0]\n",
    "\n",
    "# True Positive\n",
    "tp = (pd.crosstab(df_actual_predicted_probs['loan_data_targets_test'],\n",
    "                  df_actual_predicted_probs['y_hat_test'],\n",
    "                  rownames = ['Actual'],\n",
    "                  colnames = ['Predicted']) / df_actual_predicted_probs.shape[0]).iloc[1, 1]\n",
    "\n",
    "tn + tp"
   ]
  },
  {
   "cell_type": "markdown",
   "metadata": {},
   "source": [
    "จากการทำนายโดยใช้ threshold ที่ 90% ข้างบนพบว่า:\n",
    "\n",
    "ค่า accuracy ของ model ลดลงไปมากกว่าตอนใช้ threshold ที่ 50%\n",
    "\n",
    "แต่ว่า จากจำนวน bad borrowers ทั้งหมด มี 7,355 คนที่ทำนายได้ถูกต้องว่าเป็น bad, และมี 2,835 คนที่ทำนายผิดว่าเป็น good\n",
    "\n",
    "ในขณะเดียวกัน จากจำนวน good borrowers ทั้งหมด 83,067 คน มีเพียง 47,268 คนเท่านั้นที่ทำนายได้ถูกต้องว่าเป็น good\n",
    "\n",
    "มี false positive ลดลงไปมากก็จริง แต่ true positive ก็ลดลงไปมากเช่นกัน\n",
    "\n",
    "หากผู้ให้กู้ใช้ threshold นี้ในการทำนาย จะช่วยลดจำนวนผู้ขอกู้ที่ผิดนัดชำระหนี้ได้ แต่ก็ลดจำนวนผู้ขอกู้ที่ได้รับการอนุมัติด้วยเช่นกัน\n",
    "\n",
    "ดังนั้น threshold ที่ 90% อาจจะ conservative มากเกินไป สถาบันการเงินต้องการลดความเสี่ยงก็จริง แต่สถาบันการเงินก็ต้องการกำไรจากการปล่อยเงินกู้ด้วยเช่นกัน"
   ]
  },
  {
   "cell_type": "markdown",
   "metadata": {},
   "source": [
    "---"
   ]
  },
  {
   "cell_type": "markdown",
   "metadata": {},
   "source": [
    "วาดกราฟ Receiver Operating Characteristic (ROC) curve:"
   ]
  },
  {
   "cell_type": "code",
   "execution_count": 32,
   "metadata": {},
   "outputs": [],
   "source": [
    "from sklearn.metrics import roc_curve, roc_auc_score"
   ]
  },
  {
   "cell_type": "code",
   "execution_count": 33,
   "metadata": {
    "scrolled": true
   },
   "outputs": [
    {
     "data": {
      "text/plain": [
       "(array([0.        , 0.        , 0.        , ..., 0.99990186, 1.        ,\n",
       "        1.        ]),\n",
       " array([0.00000000e+00, 1.20384750e-05, 1.92615599e-04, ...,\n",
       "        9.99987962e-01, 9.99987962e-01, 1.00000000e+00]),\n",
       " array([       inf, 0.99223663, 0.99048829, ..., 0.39052098, 0.38779374,\n",
       "        0.36639871]))"
      ]
     },
     "execution_count": 33,
     "metadata": {},
     "output_type": "execute_result"
    }
   ],
   "source": [
    "roc_curve(df_actual_predicted_probs['loan_data_targets_test'], # Actual\n",
    "          df_actual_predicted_probs['y_hat_test_proba']) # Predicted\n",
    "\n",
    "# Return 3 arrays:\n",
    "# - False positive rates\n",
    "# - True positive rates\n",
    "# - Thresholds"
   ]
  },
  {
   "cell_type": "markdown",
   "metadata": {},
   "source": [
    "จากข้างบน นำ 3 arrays ที่ได้นี้ ไปเก็บแยกเป็นตัวแปร fpr, tpr, thresholds:"
   ]
  },
  {
   "cell_type": "code",
   "execution_count": 34,
   "metadata": {},
   "outputs": [],
   "source": [
    "fpr, tpr, thresholds = roc_curve(df_actual_predicted_probs['loan_data_targets_test'],\n",
    "                                 df_actual_predicted_probs['y_hat_test_proba'])"
   ]
  },
  {
   "cell_type": "code",
   "execution_count": 35,
   "metadata": {},
   "outputs": [],
   "source": [
    "import matplotlib.pyplot as plt\n",
    "import seaborn as sns\n",
    "sns.set() # Set the default style of the graphs to the seaborn style. "
   ]
  },
  {
   "cell_type": "markdown",
   "metadata": {},
   "source": [
    "โดยทั่วไปแล้ว กำหนดให้ true positive rate (tpr) เป็นฟังก์ชั่นของ false positive rate (fpr) จึงให้ fpr เป็นแกน x และ tpr เป็นแกน y\n",
    "\n",
    "และ ทำการวาดเส้นประทแยงสีดำซึ่งหมายถึงเหตุการณ์ที่เกิดขึ้นอย่างบังเอิญ (เช่น การโยนเหรียญมีโอกาสออกหัวก้อย 50/50) เพื่อใช้เส้นทแยงนี้เป็น benchmark\n",
    "\n",
    "วาดกราฟดังกล่าว:"
   ]
  },
  {
   "cell_type": "code",
   "execution_count": 36,
   "metadata": {
    "scrolled": false
   },
   "outputs": [
    {
     "data": {
      "text/plain": [
       "Text(0.5, 1.0, 'ROC curve')"
      ]
     },
     "execution_count": 36,
     "metadata": {},
     "output_type": "execute_result"
    },
    {
     "data": {
      "image/png": "[encoded data removed]",
      "text/plain": [
       "<Figure size 640x480 with 1 Axes>"
      ]
     },
     "metadata": {},
     "output_type": "display_data"
    }
   ],
   "source": [
    "# Plot the ROC curve.\n",
    "plt.plot(fpr, tpr)\n",
    "\n",
    "# Plot a secondary diagonal dashed line.\n",
    "plt.plot(fpr, fpr, linestyle = '--', color = 'k')\n",
    "\n",
    "plt.xlabel('False positive rate')\n",
    "plt.ylabel('True positive rate')\n",
    "plt.title('ROC curve')"
   ]
  },
  {
   "cell_type": "markdown",
   "metadata": {},
   "source": [
    "ยิ่งค่า true positive rate สูง โอกาสได้ false negative (ของจริงคือ good แต่ทำนายว่า bad) ก็ยิ่งน้อย"
   ]
  },
  {
   "cell_type": "markdown",
   "metadata": {},
   "source": [
    "เส้นสีน้ำเงิน (PD model ที่จุด thresholds ต่าง ๆ) อยู่เหนือเส้น benchmark ตลอดทุกจุด thresholds หมายความว่ามี true positive rate สูงกว่าเหตุการณ์ที่เกิดขึ้นอย่างบังเอิญ เช่น การโยนเหรียญมีโอกาสออกหัวก้อย 50/50\n",
    "\n",
    "หมายความว่า PD model สามารถทำนายได้ดีกว่าเส้น benchmark\n",
    "\n",
    "PD model นี้ ทำนายได้ดีกว่าแค่ไหน สามารถวัดได้จาก Area Under the ROC Curve (AUC)"
   ]
  },
  {
   "cell_type": "markdown",
   "metadata": {},
   "source": [
    "คำนวณ Area Under the Curve (AUC):"
   ]
  },
  {
   "cell_type": "code",
   "execution_count": 37,
   "metadata": {
    "scrolled": true
   },
   "outputs": [
    {
     "data": {
      "text/plain": [
       "0.7018963468875575"
      ]
     },
     "execution_count": 37,
     "metadata": {},
     "output_type": "execute_result"
    }
   ],
   "source": [
    "AUROC = roc_auc_score(df_actual_predicted_probs['loan_data_targets_test'],\n",
    "                      df_actual_predicted_probs['y_hat_test_proba'])\n",
    "AUROC"
   ]
  },
  {
   "cell_type": "markdown",
   "metadata": {},
   "source": [
    "สำหรับเหตุการณ์ที่เกิดขึ้นอย่างบังเอิญ เช่น การโยนเหรียญมีโอกาสออกหัวก้อย 50/50 นั้น:\n",
    "- Area Under the Curve (AUC) มีค่าเท่ากับ 50%\n",
    "\n",
    "สำหรับ PD model นี้:\n",
    "- Area Under the Curve (AUC) มีค่าเท่ากับ 70.19%\n",
    "- AUC = 70.19% นี้ โดยทั่วไปถือว่าสามารถทำนายได้ดีปานกลาง"
   ]
  },
  {
   "cell_type": "markdown",
   "metadata": {},
   "source": [
    "---"
   ]
  },
  {
   "cell_type": "markdown",
   "metadata": {},
   "source": [
    "### Gini and Kolmogorov-Smirnov"
   ]
  },
  {
   "cell_type": "markdown",
   "metadata": {},
   "source": [
    "Gini และ Kolmogorov-Smirnov เป็นเกณฑ์ที่ใช้วัดประสิทธิภาพของ model ซึ่งมีความเฉพาะทางสำหรับ Credit Risk Modelling ยิ่งกว่าการใช้เพียงแค่ Receiver Operating Characteristic (ROC) curve หรือ Area Under the Curve (AUC)"
   ]
  },
  {
   "cell_type": "markdown",
   "metadata": {},
   "source": [
    "เรียงค่า y_hat_test_proba จากน้อยไปมาก ก่อนจะไปวาดกราฟ Gini:"
   ]
  },
  {
   "cell_type": "code",
   "execution_count": 38,
   "metadata": {},
   "outputs": [],
   "source": [
    "# Sort by the values of a specific column.\n",
    "df_actual_predicted_probs = df_actual_predicted_probs.sort_values('y_hat_test_proba')"
   ]
  },
  {
   "cell_type": "code",
   "execution_count": 39,
   "metadata": {
    "scrolled": true
   },
   "outputs": [
    {
     "data": {
      "text/html": [
       "<div>\n",
       "<style scoped>\n",
       "    .dataframe tbody tr th:only-of-type {\n",
       "        vertical-align: middle;\n",
       "    }\n",
       "\n",
       "    .dataframe tbody tr th {\n",
       "        vertical-align: top;\n",
       "    }\n",
       "\n",
       "    .dataframe thead th {\n",
       "        text-align: right;\n",
       "    }\n",
       "</style>\n",
       "<table border=\"1\" class=\"dataframe\">\n",
       "  <thead>\n",
       "    <tr style=\"text-align: right;\">\n",
       "      <th></th>\n",
       "      <th>loan_data_targets_test</th>\n",
       "      <th>y_hat_test_proba</th>\n",
       "      <th>y_hat_test</th>\n",
       "    </tr>\n",
       "  </thead>\n",
       "  <tbody>\n",
       "    <tr>\n",
       "      <th>42341</th>\n",
       "      <td>1</td>\n",
       "      <td>0.366399</td>\n",
       "      <td>0</td>\n",
       "    </tr>\n",
       "    <tr>\n",
       "      <th>39810</th>\n",
       "      <td>0</td>\n",
       "      <td>0.387794</td>\n",
       "      <td>0</td>\n",
       "    </tr>\n",
       "    <tr>\n",
       "      <th>42344</th>\n",
       "      <td>1</td>\n",
       "      <td>0.390521</td>\n",
       "      <td>0</td>\n",
       "    </tr>\n",
       "    <tr>\n",
       "      <th>40518</th>\n",
       "      <td>0</td>\n",
       "      <td>0.452833</td>\n",
       "      <td>0</td>\n",
       "    </tr>\n",
       "    <tr>\n",
       "      <th>42396</th>\n",
       "      <td>0</td>\n",
       "      <td>0.460529</td>\n",
       "      <td>0</td>\n",
       "    </tr>\n",
       "  </tbody>\n",
       "</table>\n",
       "</div>"
      ],
      "text/plain": [
       "       loan_data_targets_test  y_hat_test_proba  y_hat_test\n",
       "42341                       1          0.366399           0\n",
       "39810                       0          0.387794           0\n",
       "42344                       1          0.390521           0\n",
       "40518                       0          0.452833           0\n",
       "42396                       0          0.460529           0"
      ]
     },
     "execution_count": 39,
     "metadata": {},
     "output_type": "execute_result"
    }
   ],
   "source": [
    "df_actual_predicted_probs.head()"
   ]
  },
  {
   "cell_type": "code",
   "execution_count": 40,
   "metadata": {
    "scrolled": true
   },
   "outputs": [
    {
     "data": {
      "text/html": [
       "<div>\n",
       "<style scoped>\n",
       "    .dataframe tbody tr th:only-of-type {\n",
       "        vertical-align: middle;\n",
       "    }\n",
       "\n",
       "    .dataframe tbody tr th {\n",
       "        vertical-align: top;\n",
       "    }\n",
       "\n",
       "    .dataframe thead th {\n",
       "        text-align: right;\n",
       "    }\n",
       "</style>\n",
       "<table border=\"1\" class=\"dataframe\">\n",
       "  <thead>\n",
       "    <tr style=\"text-align: right;\">\n",
       "      <th></th>\n",
       "      <th>loan_data_targets_test</th>\n",
       "      <th>y_hat_test_proba</th>\n",
       "      <th>y_hat_test</th>\n",
       "    </tr>\n",
       "  </thead>\n",
       "  <tbody>\n",
       "    <tr>\n",
       "      <th>268754</th>\n",
       "      <td>1</td>\n",
       "      <td>0.991483</td>\n",
       "      <td>1</td>\n",
       "    </tr>\n",
       "    <tr>\n",
       "      <th>282589</th>\n",
       "      <td>1</td>\n",
       "      <td>0.991541</td>\n",
       "      <td>1</td>\n",
       "    </tr>\n",
       "    <tr>\n",
       "      <th>242624</th>\n",
       "      <td>1</td>\n",
       "      <td>0.991742</td>\n",
       "      <td>1</td>\n",
       "    </tr>\n",
       "    <tr>\n",
       "      <th>262480</th>\n",
       "      <td>1</td>\n",
       "      <td>0.991929</td>\n",
       "      <td>1</td>\n",
       "    </tr>\n",
       "    <tr>\n",
       "      <th>300940</th>\n",
       "      <td>1</td>\n",
       "      <td>0.992237</td>\n",
       "      <td>1</td>\n",
       "    </tr>\n",
       "  </tbody>\n",
       "</table>\n",
       "</div>"
      ],
      "text/plain": [
       "        loan_data_targets_test  y_hat_test_proba  y_hat_test\n",
       "268754                       1          0.991483           1\n",
       "282589                       1          0.991541           1\n",
       "242624                       1          0.991742           1\n",
       "262480                       1          0.991929           1\n",
       "300940                       1          0.992237           1"
      ]
     },
     "execution_count": 40,
     "metadata": {},
     "output_type": "execute_result"
    }
   ],
   "source": [
    "df_actual_predicted_probs.tail()"
   ]
  },
  {
   "cell_type": "code",
   "execution_count": 41,
   "metadata": {},
   "outputs": [],
   "source": [
    "# Reset the index of a DataFrame and overwrite it.\n",
    "df_actual_predicted_probs = df_actual_predicted_probs.reset_index()"
   ]
  },
  {
   "cell_type": "code",
   "execution_count": 42,
   "metadata": {
    "scrolled": true
   },
   "outputs": [
    {
     "data": {
      "text/html": [
       "<div>\n",
       "<style scoped>\n",
       "    .dataframe tbody tr th:only-of-type {\n",
       "        vertical-align: middle;\n",
       "    }\n",
       "\n",
       "    .dataframe tbody tr th {\n",
       "        vertical-align: top;\n",
       "    }\n",
       "\n",
       "    .dataframe thead th {\n",
       "        text-align: right;\n",
       "    }\n",
       "</style>\n",
       "<table border=\"1\" class=\"dataframe\">\n",
       "  <thead>\n",
       "    <tr style=\"text-align: right;\">\n",
       "      <th></th>\n",
       "      <th>index</th>\n",
       "      <th>loan_data_targets_test</th>\n",
       "      <th>y_hat_test_proba</th>\n",
       "      <th>y_hat_test</th>\n",
       "    </tr>\n",
       "  </thead>\n",
       "  <tbody>\n",
       "    <tr>\n",
       "      <th>0</th>\n",
       "      <td>42341</td>\n",
       "      <td>1</td>\n",
       "      <td>0.366399</td>\n",
       "      <td>0</td>\n",
       "    </tr>\n",
       "    <tr>\n",
       "      <th>1</th>\n",
       "      <td>39810</td>\n",
       "      <td>0</td>\n",
       "      <td>0.387794</td>\n",
       "      <td>0</td>\n",
       "    </tr>\n",
       "    <tr>\n",
       "      <th>2</th>\n",
       "      <td>42344</td>\n",
       "      <td>1</td>\n",
       "      <td>0.390521</td>\n",
       "      <td>0</td>\n",
       "    </tr>\n",
       "    <tr>\n",
       "      <th>3</th>\n",
       "      <td>40518</td>\n",
       "      <td>0</td>\n",
       "      <td>0.452833</td>\n",
       "      <td>0</td>\n",
       "    </tr>\n",
       "    <tr>\n",
       "      <th>4</th>\n",
       "      <td>42396</td>\n",
       "      <td>0</td>\n",
       "      <td>0.460529</td>\n",
       "      <td>0</td>\n",
       "    </tr>\n",
       "  </tbody>\n",
       "</table>\n",
       "</div>"
      ],
      "text/plain": [
       "   index  loan_data_targets_test  y_hat_test_proba  y_hat_test\n",
       "0  42341                       1          0.366399           0\n",
       "1  39810                       0          0.387794           0\n",
       "2  42344                       1          0.390521           0\n",
       "3  40518                       0          0.452833           0\n",
       "4  42396                       0          0.460529           0"
      ]
     },
     "execution_count": 42,
     "metadata": {},
     "output_type": "execute_result"
    }
   ],
   "source": [
    "df_actual_predicted_probs.head()"
   ]
  },
  {
   "cell_type": "markdown",
   "metadata": {},
   "source": [
    "สร้าง columns เพิ่มใน DataFrame โดยคำนวณค่า:\n",
    "- Cumulative number of total population\n",
    "- Cumulative number of good borrowers\n",
    "- Cumulative number of bad borrowers\n",
    "\n",
    "ดังต่อไปนี้:"
   ]
  },
  {
   "cell_type": "code",
   "execution_count": 43,
   "metadata": {},
   "outputs": [],
   "source": [
    "# Calculate the cumulative number of all observations.\n",
    "# +1 to each index since indexing in python starts from 0.\n",
    "df_actual_predicted_probs['Cumulative N Population'] = df_actual_predicted_probs.index + 1\n",
    "\n",
    "# Calculate the cumulative sum of an actual 'good' column.\n",
    "df_actual_predicted_probs['Cumulative N Good'] = df_actual_predicted_probs['loan_data_targets_test'].cumsum()\n",
    "\n",
    "# Calculate the cumulative sum of an actual 'bad' column,\n",
    "# by calculate the difference between 'Cumulative N Population' and 'Cumulative N Good' for each row.\n",
    "df_actual_predicted_probs['Cumulative N Bad'] = df_actual_predicted_probs['Cumulative N Population'] - df_actual_predicted_probs['Cumulative N Good']"
   ]
  },
  {
   "cell_type": "code",
   "execution_count": 44,
   "metadata": {
    "scrolled": false
   },
   "outputs": [
    {
     "data": {
      "text/html": [
       "<div>\n",
       "<style scoped>\n",
       "    .dataframe tbody tr th:only-of-type {\n",
       "        vertical-align: middle;\n",
       "    }\n",
       "\n",
       "    .dataframe tbody tr th {\n",
       "        vertical-align: top;\n",
       "    }\n",
       "\n",
       "    .dataframe thead th {\n",
       "        text-align: right;\n",
       "    }\n",
       "</style>\n",
       "<table border=\"1\" class=\"dataframe\">\n",
       "  <thead>\n",
       "    <tr style=\"text-align: right;\">\n",
       "      <th></th>\n",
       "      <th>index</th>\n",
       "      <th>loan_data_targets_test</th>\n",
       "      <th>y_hat_test_proba</th>\n",
       "      <th>y_hat_test</th>\n",
       "      <th>Cumulative N Population</th>\n",
       "      <th>Cumulative N Good</th>\n",
       "      <th>Cumulative N Bad</th>\n",
       "    </tr>\n",
       "  </thead>\n",
       "  <tbody>\n",
       "    <tr>\n",
       "      <th>0</th>\n",
       "      <td>42341</td>\n",
       "      <td>1</td>\n",
       "      <td>0.366399</td>\n",
       "      <td>0</td>\n",
       "      <td>1</td>\n",
       "      <td>1</td>\n",
       "      <td>0</td>\n",
       "    </tr>\n",
       "    <tr>\n",
       "      <th>1</th>\n",
       "      <td>39810</td>\n",
       "      <td>0</td>\n",
       "      <td>0.387794</td>\n",
       "      <td>0</td>\n",
       "      <td>2</td>\n",
       "      <td>1</td>\n",
       "      <td>1</td>\n",
       "    </tr>\n",
       "    <tr>\n",
       "      <th>2</th>\n",
       "      <td>42344</td>\n",
       "      <td>1</td>\n",
       "      <td>0.390521</td>\n",
       "      <td>0</td>\n",
       "      <td>3</td>\n",
       "      <td>2</td>\n",
       "      <td>1</td>\n",
       "    </tr>\n",
       "    <tr>\n",
       "      <th>3</th>\n",
       "      <td>40518</td>\n",
       "      <td>0</td>\n",
       "      <td>0.452833</td>\n",
       "      <td>0</td>\n",
       "      <td>4</td>\n",
       "      <td>2</td>\n",
       "      <td>2</td>\n",
       "    </tr>\n",
       "    <tr>\n",
       "      <th>4</th>\n",
       "      <td>42396</td>\n",
       "      <td>0</td>\n",
       "      <td>0.460529</td>\n",
       "      <td>0</td>\n",
       "      <td>5</td>\n",
       "      <td>2</td>\n",
       "      <td>3</td>\n",
       "    </tr>\n",
       "  </tbody>\n",
       "</table>\n",
       "</div>"
      ],
      "text/plain": [
       "   index  loan_data_targets_test  y_hat_test_proba  y_hat_test  \\\n",
       "0  42341                       1          0.366399           0   \n",
       "1  39810                       0          0.387794           0   \n",
       "2  42344                       1          0.390521           0   \n",
       "3  40518                       0          0.452833           0   \n",
       "4  42396                       0          0.460529           0   \n",
       "\n",
       "   Cumulative N Population  Cumulative N Good  Cumulative N Bad  \n",
       "0                        1                  1                 0  \n",
       "1                        2                  1                 1  \n",
       "2                        3                  2                 1  \n",
       "3                        4                  2                 2  \n",
       "4                        5                  2                 3  "
      ]
     },
     "execution_count": 44,
     "metadata": {},
     "output_type": "execute_result"
    }
   ],
   "source": [
    "df_actual_predicted_probs.head()"
   ]
  },
  {
   "cell_type": "markdown",
   "metadata": {},
   "source": [
    "สร้าง columns เพิ่มใน DataFrame โดยคำนวณค่า:\n",
    "- Cumulative % of total population\n",
    "- Cumulative % of good borrowers\n",
    "- Cumulative % of bad borrowers\n",
    "\n",
    "ทำได้โดยการหาร cumulative แต่ละอัน ด้วย total ของตัวมันเอง:"
   ]
  },
  {
   "cell_type": "code",
   "execution_count": 45,
   "metadata": {},
   "outputs": [],
   "source": [
    "# Calculate the cumulative % of all observations.\n",
    "df_actual_predicted_probs['Cumulative Perc Population'] = df_actual_predicted_probs['Cumulative N Population'] / (df_actual_predicted_probs.shape[0])\n",
    "\n",
    "# Calculate cumulative % of 'good' borrowers.\n",
    "df_actual_predicted_probs['Cumulative Perc Good'] = df_actual_predicted_probs['Cumulative N Good'] / df_actual_predicted_probs['loan_data_targets_test'].sum()\n",
    "\n",
    "# Calculate the cumulative % of 'bad' borrowers.\n",
    "df_actual_predicted_probs['Cumulative Perc Bad'] = df_actual_predicted_probs['Cumulative N Bad'] / (df_actual_predicted_probs.shape[0] - df_actual_predicted_probs['loan_data_targets_test'].sum())"
   ]
  },
  {
   "cell_type": "code",
   "execution_count": 46,
   "metadata": {
    "scrolled": true
   },
   "outputs": [
    {
     "data": {
      "text/html": [
       "<div>\n",
       "<style scoped>\n",
       "    .dataframe tbody tr th:only-of-type {\n",
       "        vertical-align: middle;\n",
       "    }\n",
       "\n",
       "    .dataframe tbody tr th {\n",
       "        vertical-align: top;\n",
       "    }\n",
       "\n",
       "    .dataframe thead th {\n",
       "        text-align: right;\n",
       "    }\n",
       "</style>\n",
       "<table border=\"1\" class=\"dataframe\">\n",
       "  <thead>\n",
       "    <tr style=\"text-align: right;\">\n",
       "      <th></th>\n",
       "      <th>index</th>\n",
       "      <th>loan_data_targets_test</th>\n",
       "      <th>y_hat_test_proba</th>\n",
       "      <th>y_hat_test</th>\n",
       "      <th>Cumulative N Population</th>\n",
       "      <th>Cumulative N Good</th>\n",
       "      <th>Cumulative N Bad</th>\n",
       "      <th>Cumulative Perc Population</th>\n",
       "      <th>Cumulative Perc Good</th>\n",
       "      <th>Cumulative Perc Bad</th>\n",
       "    </tr>\n",
       "  </thead>\n",
       "  <tbody>\n",
       "    <tr>\n",
       "      <th>0</th>\n",
       "      <td>42341</td>\n",
       "      <td>1</td>\n",
       "      <td>0.366399</td>\n",
       "      <td>0</td>\n",
       "      <td>1</td>\n",
       "      <td>1</td>\n",
       "      <td>0</td>\n",
       "      <td>0.000011</td>\n",
       "      <td>0.000012</td>\n",
       "      <td>0.000000</td>\n",
       "    </tr>\n",
       "    <tr>\n",
       "      <th>1</th>\n",
       "      <td>39810</td>\n",
       "      <td>0</td>\n",
       "      <td>0.387794</td>\n",
       "      <td>0</td>\n",
       "      <td>2</td>\n",
       "      <td>1</td>\n",
       "      <td>1</td>\n",
       "      <td>0.000021</td>\n",
       "      <td>0.000012</td>\n",
       "      <td>0.000098</td>\n",
       "    </tr>\n",
       "    <tr>\n",
       "      <th>2</th>\n",
       "      <td>42344</td>\n",
       "      <td>1</td>\n",
       "      <td>0.390521</td>\n",
       "      <td>0</td>\n",
       "      <td>3</td>\n",
       "      <td>2</td>\n",
       "      <td>1</td>\n",
       "      <td>0.000032</td>\n",
       "      <td>0.000024</td>\n",
       "      <td>0.000098</td>\n",
       "    </tr>\n",
       "    <tr>\n",
       "      <th>3</th>\n",
       "      <td>40518</td>\n",
       "      <td>0</td>\n",
       "      <td>0.452833</td>\n",
       "      <td>0</td>\n",
       "      <td>4</td>\n",
       "      <td>2</td>\n",
       "      <td>2</td>\n",
       "      <td>0.000043</td>\n",
       "      <td>0.000024</td>\n",
       "      <td>0.000196</td>\n",
       "    </tr>\n",
       "    <tr>\n",
       "      <th>4</th>\n",
       "      <td>42396</td>\n",
       "      <td>0</td>\n",
       "      <td>0.460529</td>\n",
       "      <td>0</td>\n",
       "      <td>5</td>\n",
       "      <td>2</td>\n",
       "      <td>3</td>\n",
       "      <td>0.000054</td>\n",
       "      <td>0.000024</td>\n",
       "      <td>0.000294</td>\n",
       "    </tr>\n",
       "  </tbody>\n",
       "</table>\n",
       "</div>"
      ],
      "text/plain": [
       "   index  loan_data_targets_test  y_hat_test_proba  y_hat_test  \\\n",
       "0  42341                       1          0.366399           0   \n",
       "1  39810                       0          0.387794           0   \n",
       "2  42344                       1          0.390521           0   \n",
       "3  40518                       0          0.452833           0   \n",
       "4  42396                       0          0.460529           0   \n",
       "\n",
       "   Cumulative N Population  Cumulative N Good  Cumulative N Bad  \\\n",
       "0                        1                  1                 0   \n",
       "1                        2                  1                 1   \n",
       "2                        3                  2                 1   \n",
       "3                        4                  2                 2   \n",
       "4                        5                  2                 3   \n",
       "\n",
       "   Cumulative Perc Population  Cumulative Perc Good  Cumulative Perc Bad  \n",
       "0                    0.000011              0.000012             0.000000  \n",
       "1                    0.000021              0.000012             0.000098  \n",
       "2                    0.000032              0.000024             0.000098  \n",
       "3                    0.000043              0.000024             0.000196  \n",
       "4                    0.000054              0.000024             0.000294  "
      ]
     },
     "execution_count": 46,
     "metadata": {},
     "output_type": "execute_result"
    }
   ],
   "source": [
    "df_actual_predicted_probs.head()"
   ]
  },
  {
   "cell_type": "markdown",
   "metadata": {},
   "source": [
    "### Gini:"
   ]
  },
  {
   "cell_type": "code",
   "execution_count": 47,
   "metadata": {
    "scrolled": false
   },
   "outputs": [
    {
     "data": {
      "text/plain": [
       "Text(0.5, 1.0, 'Gini')"
      ]
     },
     "execution_count": 47,
     "metadata": {},
     "output_type": "execute_result"
    },
    {
     "data": {
      "image/png": "[encoded data removed]",
      "text/plain": [
       "<Figure size 640x480 with 1 Axes>"
      ]
     },
     "metadata": {},
     "output_type": "display_data"
    }
   ],
   "source": [
    "# Plot the Gini curve.\n",
    "plt.plot(df_actual_predicted_probs['Cumulative Perc Population'],\n",
    "         df_actual_predicted_probs['Cumulative Perc Bad'])\n",
    "\n",
    "# Plot a secondary diagonal dashed line.\n",
    "plt.plot(df_actual_predicted_probs['Cumulative Perc Population'],\n",
    "         df_actual_predicted_probs['Cumulative Perc Population'],\n",
    "         linestyle = '--', color = 'k')\n",
    "\n",
    "plt.xlabel('Cumulative % Population')\n",
    "plt.ylabel('Cumulative % Bad')\n",
    "plt.title('Gini')"
   ]
  },
  {
   "cell_type": "markdown",
   "metadata": {},
   "source": [
    "คำนวณค่า Gini โดยใช้ Area Under the ROC Curve (AUROC) ยิ่งค่าสูงยิ่งแสดงถึงความเหลื่อมล้ำ หมายความว่า model ยิ่งแบ่งแยก good กับ bad borrowers ได้ดี:"
   ]
  },
  {
   "cell_type": "code",
   "execution_count": 48,
   "metadata": {},
   "outputs": [
    {
     "data": {
      "text/plain": [
       "0.40379269377511506"
      ]
     },
     "execution_count": 48,
     "metadata": {},
     "output_type": "execute_result"
    }
   ],
   "source": [
    "Gini = AUROC * 2 - 1\n",
    "Gini"
   ]
  },
  {
   "cell_type": "markdown",
   "metadata": {},
   "source": [
    "### Kolmogorov-Smirnov:"
   ]
  },
  {
   "cell_type": "markdown",
   "metadata": {},
   "source": [
    "ให้เส้นสีแดงเป็น cumulative distribution function ของ 'bad' borrowers\n",
    "\n",
    "ให้เส้นสีน้ำเงินเป็น cumulative distribution function ของ 'good' borrowers\n",
    "\n",
    "ดังนี้:"
   ]
  },
  {
   "cell_type": "code",
   "execution_count": 49,
   "metadata": {},
   "outputs": [
    {
     "data": {
      "text/plain": [
       "Text(0.5, 1.0, 'Kolmogorov-Smirnov')"
      ]
     },
     "execution_count": 49,
     "metadata": {},
     "output_type": "execute_result"
    },
    {
     "data": {
      "image/png": "[encoded data removed]",
      "text/plain": [
       "<Figure size 640x480 with 1 Axes>"
      ]
     },
     "metadata": {},
     "output_type": "display_data"
    }
   ],
   "source": [
    "# Plot the estimated (predicted) probabilities of 'good' along the x-axis.\n",
    "# Plot the cumulative % 'bad' borrowers along the y-axis.\n",
    "plt.plot(df_actual_predicted_probs['y_hat_test_proba'],\n",
    "         df_actual_predicted_probs['Cumulative Perc Bad'], color = 'r')\n",
    "\n",
    "# Plot the estimated (predicted) probabilities of 'good' along the x-axis.\n",
    "# Plot the cumulative % 'good' borrowers along the y-axis.\n",
    "plt.plot(df_actual_predicted_probs['y_hat_test_proba'],\n",
    "         df_actual_predicted_probs['Cumulative Perc Good'], color = 'b')\n",
    "\n",
    "plt.xlabel('Estimated Probability for being Good')\n",
    "plt.ylabel('Cumulative %')\n",
    "plt.title('Kolmogorov-Smirnov')"
   ]
  },
  {
   "cell_type": "markdown",
   "metadata": {},
   "source": [
    "คำนวณค่าที่แตกต่างกันมากสุดระหว่าง cumulative percentage ของ bad borrowers, the cumulative percentage ของ good borrowers (ยิ่งค่าสูง model ยิ่งแยก good กับ bad borrowers ออกจากกันได้ดี):"
   ]
  },
  {
   "cell_type": "code",
   "execution_count": 50,
   "metadata": {
    "scrolled": true
   },
   "outputs": [
    {
     "data": {
      "text/plain": [
       "0.29490408283047304"
      ]
     },
     "execution_count": 50,
     "metadata": {},
     "output_type": "execute_result"
    }
   ],
   "source": [
    "KS = max(df_actual_predicted_probs['Cumulative Perc Bad'] - df_actual_predicted_probs['Cumulative Perc Good'])\n",
    "KS"
   ]
  },
  {
   "cell_type": "markdown",
   "metadata": {},
   "source": [
    "ค่า Kolmogorov-Smirnov ที่ได้ไม่ค่อยสูงมาก คือไม่ค่อยเข้าใกล้ 1; แต่อย่างไรก็ตาม ค่าที่ได้ก็มากกว่า 0 พอสมควร\n",
    "\n",
    "จากกราฟ Kolmogorov-Smirnov พบว่า cumulative distribution functions ทั้งสองอยู่ห่างจากกันมากพอ และ model สามารถทำนายผลได้อย่างน่าพอใจ"
   ]
  },
  {
   "cell_type": "markdown",
   "metadata": {},
   "source": [
    "---\n",
    "\n",
    "# End of notebook.\n",
    "\n",
    "---"
   ]
  },
  {
   "cell_type": "code",
   "execution_count": null,
   "metadata": {},
   "outputs": [],
   "source": []
  }
 ],
 "metadata": {
  "kernelspec": {
   "display_name": "Python 3 (ipykernel)",
   "language": "python",
   "name": "python3"
  },
  "language_info": {
   "codemirror_mode": {
    "name": "ipython",
    "version": 3
   },
   "file_extension": ".py",
   "mimetype": "text/x-python",
   "name": "python",
   "nbconvert_exporter": "python",
   "pygments_lexer": "ipython3",
   "version": "3.11.5"
  }
 },
 "nbformat": 4,
 "nbformat_minor": 2
}
