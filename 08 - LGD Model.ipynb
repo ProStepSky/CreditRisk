{
 "cells": [
  {
   "cell_type": "markdown",
   "metadata": {},
   "source": [
    "**Please visit https://ProStepSky.github.io/.**\n",
    "\n",
    "This work © 2024 by \"ProStepSky.github.io จัดทำโดย S.U.\" is licensed under [CC BY-NC-ND 4.0](http://creativecommons.org/licenses/by-nc-nd/4.0/)  \n",
    "(อ้างอิงแหล่งที่มา ห้ามนำไปใช้เพื่อการค้า และห้ามดัดแปลง)\n",
    "\n",
    "---"
   ]
  },
  {
   "cell_type": "markdown",
   "metadata": {},
   "source": [
    "# Import Libraries"
   ]
  },
  {
   "cell_type": "code",
   "execution_count": 1,
   "metadata": {},
   "outputs": [],
   "source": [
    "import numpy as np\n",
    "import pandas as pd"
   ]
  },
  {
   "cell_type": "code",
   "execution_count": 2,
   "metadata": {},
   "outputs": [],
   "source": [
    "# Suppress all warnings \n",
    "import warnings\n",
    "warnings.filterwarnings(\"ignore\")"
   ]
  },
  {
   "cell_type": "markdown",
   "metadata": {},
   "source": [
    "# Import Data"
   ]
  },
  {
   "cell_type": "markdown",
   "metadata": {},
   "source": [
    "Import การกู้ยืมที่มีสถานะเป็นหนี้สูญ (written-off) ซึ่งได้จากการคัดเลือกเมื่อ notebook ชื่อ 07 - LGD and EAD - Preparing the Data:"
   ]
  },
  {
   "cell_type": "code",
   "execution_count": 3,
   "metadata": {},
   "outputs": [],
   "source": [
    "loan_data_defaults = pd.read_csv('./data/loan_data_defaults.csv')"
   ]
  },
  {
   "cell_type": "markdown",
   "metadata": {},
   "source": [
    "# Explore Dependent Variables"
   ]
  },
  {
   "cell_type": "code",
   "execution_count": 4,
   "metadata": {},
   "outputs": [],
   "source": [
    "import matplotlib.pyplot as plt\n",
    "import seaborn as sns\n",
    "sns.set() # Set the default style of the graphs to the seaborn style. "
   ]
  },
  {
   "cell_type": "markdown",
   "metadata": {},
   "source": [
    "วาดกราฟ histogram ของตัวแปรตาม recovery rate (ร้อยละความเสียหายที่กู้คืนได้) โดยใช้ 50 bins:"
   ]
  },
  {
   "cell_type": "code",
   "execution_count": 5,
   "metadata": {},
   "outputs": [
    {
     "data": {
      "text/plain": [
       "(array([2.1023e+04, 1.8370e+03, 3.8730e+03, 1.3940e+03, 2.1330e+03,\n",
       "        3.3440e+03, 4.7650e+03, 1.7130e+03, 1.1790e+03, 4.0600e+02,\n",
       "        3.4100e+02, 2.7400e+02, 1.1700e+02, 9.3000e+01, 8.1000e+01,\n",
       "        7.3000e+01, 5.4000e+01, 7.2000e+01, 5.7000e+01, 3.0000e+01,\n",
       "        4.7000e+01, 2.7000e+01, 1.7000e+01, 1.5000e+01, 2.0000e+01,\n",
       "        2.3000e+01, 1.7000e+01, 7.0000e+00, 1.1000e+01, 7.0000e+00,\n",
       "        8.0000e+00, 7.0000e+00, 7.0000e+00, 8.0000e+00, 7.0000e+00,\n",
       "        1.0000e+01, 6.0000e+00, 1.1000e+01, 9.0000e+00, 9.0000e+00,\n",
       "        6.0000e+00, 6.0000e+00, 6.0000e+00, 3.0000e+00, 9.0000e+00,\n",
       "        9.0000e+00, 1.5000e+01, 8.0000e+00, 9.0000e+00, 3.3000e+01]),\n",
       " array([0.  , 0.02, 0.04, 0.06, 0.08, 0.1 , 0.12, 0.14, 0.16, 0.18, 0.2 ,\n",
       "        0.22, 0.24, 0.26, 0.28, 0.3 , 0.32, 0.34, 0.36, 0.38, 0.4 , 0.42,\n",
       "        0.44, 0.46, 0.48, 0.5 , 0.52, 0.54, 0.56, 0.58, 0.6 , 0.62, 0.64,\n",
       "        0.66, 0.68, 0.7 , 0.72, 0.74, 0.76, 0.78, 0.8 , 0.82, 0.84, 0.86,\n",
       "        0.88, 0.9 , 0.92, 0.94, 0.96, 0.98, 1.  ]),\n",
       " <BarContainer object of 50 artists>)"
      ]
     },
     "execution_count": 5,
     "metadata": {},
     "output_type": "execute_result"
    },
    {
     "data": {
      "image/png": "[encoded data removed]",
      "text/plain": [
       "<Figure size 640x480 with 1 Axes>"
      ]
     },
     "metadata": {},
     "output_type": "display_data"
    }
   ],
   "source": [
    "plt.hist(loan_data_defaults['recovery_rate'], bins = 50)"
   ]
  },
  {
   "cell_type": "markdown",
   "metadata": {},
   "source": [
    "จากกราฟ histogram ข้างบนพบว่า ประมาณครึ่งหนึ่งของผู้ขอกู้มี recovery rate (ร้อยละความเสียหายที่กู้คืนได้) เท่ากับ 0\n",
    "\n",
    "ดังนั้น การทำนาย Loss Given Default (LGD: เปอร์เซนต์ความเสียหายเมื่อลูกหนี้ผิดนัดชำระหนี้) จึงสมเหตุสมผลที่จะแยกการทำนายเป็นสองขั้นตอน (Two-stage approach) ในขั้นตอนถัดไป"
   ]
  },
  {
   "cell_type": "markdown",
   "metadata": {},
   "source": [
    "ตัวแปร recovery rate มีค่าเป็นอัตราส่วนคือมีค่าอยู่ระหว่าง 0 ถึง 1 ซึ่งหากอธิบายความหนาแน่นของอัตราส่วน (density of proportion) ด้วยการแจกแจงแบบ beta distribution จะดีที่สุด โดย beta regression จะนำมาใช้สร้างโมเดลที่มีผลลัพธ์ระหว่าง 0 ถึง 1\n",
    "\n",
    "แต่ขณะนี้ยังไม่มี python library หลัก ๆ ที่รองรับ beta regression ดังนั้น จึงจะแยกการทำนายเป็นสองขั้นตอน (Two-stage approach) ดังนี้\n",
    "\n",
    "- <font color='darkorange'>**Stage 1: logistic regression**</font> เพื่อหา recovery rate ว่ามีค่าเท่ากับ 0 หรือมากกว่า 0?\n",
    "    - ถ้า recovery rate มีค่าเท่ากับ 0 นั่นคือ มีค่าเท่ากับ 0 ไม่ต้องทำนายต่อแล้ว\n",
    "    - ถ้า recovery rate มีค่ามากกว่า 0 จะใช้ <font color='darkorange'>**Stage 2: linear regression**</font> เพื่อทำนายต่อไปว่า recovery rate นั้น มีค่าเท่ากับเท่าไร?"
   ]
  },
  {
   "cell_type": "markdown",
   "metadata": {},
   "source": [
    "จากกราฟการแจกแจงของตัวแปร recovery rate ข้างบนพบว่า ประมาณครึ่งหนึ่งของผู้ขอกู้มี recovery rate เท่ากับ 0 ในขณะที่อีกประมาณครึ่งหนึ่งมี recovery rate มากกว่า 0\n",
    "\n",
    "ดังนั้น การทำนาย Loss Given Default (LGD: เปอร์เซนต์ความเสียหายเมื่อลูกหนี้ผิดนัดชำระหนี้) จึงจะแยกการทำนายเป็นสองขั้นตอน (Two-stage approach):\n",
    "\n",
    "1. Recovery rate (ร้อยละความเสียหายที่กู้คืนได้) มีค่าเท่ากับ 0 หรือมากกว่า 0?\n",
    "2. ถ้า recovery rate มีค่ามากกว่า 0 แล้ว recovery rate นั้น มีค่าเท่ากับเท่าไร?"
   ]
  },
  {
   "cell_type": "markdown",
   "metadata": {},
   "source": [
    "---\n",
    "---\n",
    "---"
   ]
  },
  {
   "cell_type": "markdown",
   "metadata": {},
   "source": [
    "# ➡ <font color='dodgerblue'><u>LGD Model</u></font> ⬅"
   ]
  },
  {
   "cell_type": "markdown",
   "metadata": {},
   "source": [
    "## <font color='darkorange'>*Stage 1: Logistic Regression*</font>"
   ]
  },
  {
   "cell_type": "markdown",
   "metadata": {},
   "source": [
    "ถ้า recovery_rate เท่ากับ 0 แล้ว, ให้ recovery_rate_0_1 มีค่าเท่ากับ 0\n",
    "\n",
    "ถ้า recovery_rate ไม่เท่ากับ 0 (คือมากกว่า 0) แล้ว, ให้ recovery_rate_0_1 มีค่าเท่ากับ 1\n",
    "\n",
    "ดำเนินการดังนี้:"
   ]
  },
  {
   "cell_type": "code",
   "execution_count": 6,
   "metadata": {},
   "outputs": [],
   "source": [
    "loan_data_defaults['recovery_rate_0_1'] = np.where(loan_data_defaults['recovery_rate'] == 0, 0, 1)"
   ]
  },
  {
   "cell_type": "code",
   "execution_count": 7,
   "metadata": {},
   "outputs": [
    {
     "data": {
      "text/plain": [
       "0        1\n",
       "1        1\n",
       "2        1\n",
       "3        1\n",
       "4        1\n",
       "        ..\n",
       "43231    0\n",
       "43232    0\n",
       "43233    1\n",
       "43234    0\n",
       "43235    0\n",
       "Name: recovery_rate_0_1, Length: 43236, dtype: int32"
      ]
     },
     "execution_count": 7,
     "metadata": {},
     "output_type": "execute_result"
    }
   ],
   "source": [
    "loan_data_defaults['recovery_rate_0_1']"
   ]
  },
  {
   "cell_type": "markdown",
   "metadata": {},
   "source": [
    "การกู้ยืมที่มีสถานะเป็นหนี้สูญ (written-off) ที่มีค่า recovery rate มากกว่า 0 จะถูกนำไปใช้ใน Stage 2: linear regression เพื่อทำนายต่อไปว่า recovery rate นั้น มีค่าเท่ากับเท่าไร"
   ]
  },
  {
   "cell_type": "markdown",
   "metadata": {},
   "source": [
    "### Splitting Data"
   ]
  },
  {
   "cell_type": "markdown",
   "metadata": {},
   "source": [
    "ทำ train/test split ด้วยอัตราส่วน 80:20"
   ]
  },
  {
   "cell_type": "code",
   "execution_count": 8,
   "metadata": {},
   "outputs": [],
   "source": [
    "from sklearn.model_selection import train_test_split"
   ]
  },
  {
   "cell_type": "markdown",
   "metadata": {},
   "source": [
    "ใช้ input เป็น การกู้ยืมที่มีสถานะเป็นหนี้สูญ (written-off) ที่มีสถานะเป็นหนี้สูญ (written-off) แต่ drop ตัวแปรตาม good_bad, recovery_rate, recovery_rate_0_1, CCF\n",
    "\n",
    "ใช้ target เป็น recovery_rate_0_1\n",
    "\n",
    "ดังนี้:"
   ]
  },
  {
   "cell_type": "code",
   "execution_count": 9,
   "metadata": {},
   "outputs": [],
   "source": [
    "lgd_inputs_stage_1_train, lgd_inputs_stage_1_test, lgd_targets_stage_1_train, lgd_targets_stage_1_test = train_test_split(loan_data_defaults.drop(['good_bad', 'recovery_rate','recovery_rate_0_1', 'CCF'], axis = 1), loan_data_defaults['recovery_rate_0_1'], test_size = 0.2, random_state = 42)"
   ]
  },
  {
   "cell_type": "markdown",
   "metadata": {},
   "source": [
    "### Preparing the Inputs"
   ]
  },
  {
   "cell_type": "markdown",
   "metadata": {},
   "source": [
    "สร้างตัวแปร features_all เพื่อเก็บเฉพาะชื่อของตัวแปรอิสระที่ต้องใช้เท่านั้น:"
   ]
  },
  {
   "cell_type": "code",
   "execution_count": 10,
   "metadata": {},
   "outputs": [],
   "source": [
    "features_all = ['grade:A',\n",
    "'grade:B',\n",
    "'grade:C',\n",
    "'grade:D',\n",
    "'grade:E',\n",
    "'grade:F',\n",
    "'grade:G',\n",
    "'home_ownership:MORTGAGE',\n",
    "'home_ownership:NONE',\n",
    "'home_ownership:OTHER',\n",
    "'home_ownership:OWN',\n",
    "'home_ownership:RENT',\n",
    "'verification_status:Not Verified',\n",
    "'verification_status:Source Verified',\n",
    "'verification_status:Verified',\n",
    "'purpose:car',\n",
    "'purpose:credit_card',\n",
    "'purpose:debt_consolidation',\n",
    "'purpose:educational',\n",
    "'purpose:home_improvement',\n",
    "'purpose:house',\n",
    "'purpose:major_purchase',\n",
    "'purpose:medical',\n",
    "'purpose:moving',\n",
    "'purpose:other',\n",
    "'purpose:renewable_energy',\n",
    "'purpose:small_business',\n",
    "'purpose:vacation',\n",
    "'purpose:wedding',\n",
    "'initial_list_status:f',\n",
    "'initial_list_status:w',\n",
    "'term_int',\n",
    "'emp_length_int',\n",
    "'mths_since_issue_d',\n",
    "'mths_since_earliest_cr_line',\n",
    "'funded_amnt',\n",
    "'int_rate',\n",
    "'installment',\n",
    "'annual_inc',\n",
    "'dti',\n",
    "'delinq_2yrs',\n",
    "'inq_last_6mths',\n",
    "'mths_since_last_delinq',\n",
    "'mths_since_last_record',\n",
    "'open_acc',\n",
    "'pub_rec',\n",
    "'total_acc',\n",
    "'acc_now_delinq',\n",
    "'total_rev_hi_lim']"
   ]
  },
  {
   "cell_type": "markdown",
   "metadata": {},
   "source": [
    "สร้างตัวแปร features_reference_cat เพื่อเก็บชื่อของ dummy variable reference categories:"
   ]
  },
  {
   "cell_type": "code",
   "execution_count": 11,
   "metadata": {},
   "outputs": [],
   "source": [
    "features_reference_cat = ['grade:G',\n",
    "'home_ownership:RENT',\n",
    "'verification_status:Verified',\n",
    "'purpose:credit_card',\n",
    "'initial_list_status:f']"
   ]
  },
  {
   "cell_type": "markdown",
   "metadata": {},
   "source": [
    "เลือกเก็บเฉพาะตัวแปรที่ต้องใช้เท่านั้น นั่นคือตัวแปรที่มีชื่ออยู่ใน features_all list:"
   ]
  },
  {
   "cell_type": "code",
   "execution_count": 12,
   "metadata": {},
   "outputs": [],
   "source": [
    "lgd_inputs_stage_1_train = lgd_inputs_stage_1_train[features_all]"
   ]
  },
  {
   "cell_type": "markdown",
   "metadata": {},
   "source": [
    "ต้องทำการกำจัด 1 dummy variable สำหรับตัวแปรต้นฉบับแต่ละตัว เพื่อป้องกันปัญหา dummy variable trap ซึ่งทำให้เกิด multicollinearity\n",
    "\n",
    "ทำการ drop ตัวแปรที่เป็น dummy variable reference categories:"
   ]
  },
  {
   "cell_type": "code",
   "execution_count": 13,
   "metadata": {},
   "outputs": [],
   "source": [
    "lgd_inputs_stage_1_train = lgd_inputs_stage_1_train.drop(features_reference_cat, axis = 1)"
   ]
  },
  {
   "cell_type": "markdown",
   "metadata": {},
   "source": [
    "### Estimating the Model (LGD stage 1 model)"
   ]
  },
  {
   "cell_type": "markdown",
   "metadata": {},
   "source": [
    "ดัดแปลง .fit() method จาก Logistic Regression class เพื่อให้คำนวณ p-values ได้:"
   ]
  },
  {
   "cell_type": "code",
   "execution_count": 14,
   "metadata": {},
   "outputs": [],
   "source": [
    "# P values for sklearn logistic regression.\n",
    "\n",
    "# Class to display p-values for logistic regression in sklearn.\n",
    "\n",
    "from sklearn import linear_model\n",
    "import scipy.stats as stat\n",
    "\n",
    "class LogisticRegression_with_p_values:\n",
    "    \n",
    "    # Inherit everything from the original LogisticRegression class.\n",
    "    def __init__(self,*args,**kwargs):#,**kwargs):\n",
    "\n",
    "        # -------------------------------------------------------\n",
    "        # This function will be provided upon request. Thank you.\n",
    "        # -------------------------------------------------------\n",
    "\n",
    "    # Overwrite .fit() with a function that calculate p-values.\n",
    "    def fit(self,X,y):\n",
    "        \n",
    "        # -------------------------------------------------------\n",
    "        # This function will be provided upon request. Thank you.\n",
    "        # -------------------------------------------------------"
   ]
  },
  {
   "cell_type": "markdown",
   "metadata": {},
   "source": [
    "สร้าง instance โดยใช้ class ที่ผ่านการดัดแปลงให้สามารถคำนวณ p-values ได้:"
   ]
  },
  {
   "cell_type": "code",
   "execution_count": 15,
   "metadata": {},
   "outputs": [],
   "source": [
    "reg_lgd_st_1 = LogisticRegression_with_p_values()"
   ]
  },
  {
   "cell_type": "markdown",
   "metadata": {},
   "source": [
    "ทำการ fit model:"
   ]
  },
  {
   "cell_type": "code",
   "execution_count": 16,
   "metadata": {},
   "outputs": [],
   "source": [
    "reg_lgd_st_1.fit(lgd_inputs_stage_1_train, lgd_targets_stage_1_train)"
   ]
  },
  {
   "cell_type": "markdown",
   "metadata": {},
   "source": [
    "แสดงจุดตัดแกน, สัมประสิทธิ์ของ, และ p-values สำหรับ LGD stage 1 model (Logistic Regression):"
   ]
  },
  {
   "cell_type": "code",
   "execution_count": 17,
   "metadata": {},
   "outputs": [],
   "source": [
    "feature_name = lgd_inputs_stage_1_train.columns.values"
   ]
  },
  {
   "cell_type": "code",
   "execution_count": 18,
   "metadata": {},
   "outputs": [],
   "source": [
    "# Column titled 'Feature name' with row values contained in the 'feature_name'.\n",
    "summary_table = pd.DataFrame(columns = ['Feature name'], data = feature_name)\n",
    "\n",
    "# Column titled 'Coefficients'\n",
    "# with row values the transposed coefficients from the 'LogisticRegression' object\n",
    "summary_table['Coefficients'] = np.transpose(reg_lgd_st_1.coef_)\n",
    "\n",
    "# +1 to the index of every row.\n",
    "summary_table.index = summary_table.index + 1\n",
    "\n",
    "# Assign values of the row with index 0.\n",
    "summary_table.loc[0] = ['Intercept', reg_lgd_st_1.intercept_[0]]\n",
    "\n",
    "# Sort the DataFrame by index.\n",
    "summary_table = summary_table.sort_index()\n",
    "\n",
    "# Take the result of the newly added method 'p_values'.\n",
    "p_values = reg_lgd_st_1.p_values\n",
    "\n",
    "# Add the 'NaN' value at the beginning of the list,\n",
    "# which is the same position as the intercept row.\n",
    "p_values = np.append(np.nan,np.array(p_values))\n",
    "\n",
    "# Add a new column to the table.\n",
    "summary_table['p_values'] = p_values"
   ]
  },
  {
   "cell_type": "code",
   "execution_count": 19,
   "metadata": {
    "scrolled": false
   },
   "outputs": [
    {
     "data": {
      "text/html": [
       "<div>\n",
       "<style scoped>\n",
       "    .dataframe tbody tr th:only-of-type {\n",
       "        vertical-align: middle;\n",
       "    }\n",
       "\n",
       "    .dataframe tbody tr th {\n",
       "        vertical-align: top;\n",
       "    }\n",
       "\n",
       "    .dataframe thead th {\n",
       "        text-align: right;\n",
       "    }\n",
       "</style>\n",
       "<table border=\"1\" class=\"dataframe\">\n",
       "  <thead>\n",
       "    <tr style=\"text-align: right;\">\n",
       "      <th></th>\n",
       "      <th>Feature name</th>\n",
       "      <th>Coefficients</th>\n",
       "      <th>p_values</th>\n",
       "    </tr>\n",
       "  </thead>\n",
       "  <tbody>\n",
       "    <tr>\n",
       "      <th>0</th>\n",
       "      <td>Intercept</td>\n",
       "      <td>-4.053534e-04</td>\n",
       "      <td>NaN</td>\n",
       "    </tr>\n",
       "    <tr>\n",
       "      <th>1</th>\n",
       "      <td>grade:A</td>\n",
       "      <td>-6.164895e-05</td>\n",
       "      <td>9.994270e-01</td>\n",
       "    </tr>\n",
       "    <tr>\n",
       "      <th>2</th>\n",
       "      <td>grade:B</td>\n",
       "      <td>-2.687978e-04</td>\n",
       "      <td>9.969014e-01</td>\n",
       "    </tr>\n",
       "    <tr>\n",
       "      <th>3</th>\n",
       "      <td>grade:C</td>\n",
       "      <td>-4.215971e-04</td>\n",
       "      <td>9.949535e-01</td>\n",
       "    </tr>\n",
       "    <tr>\n",
       "      <th>4</th>\n",
       "      <td>grade:D</td>\n",
       "      <td>4.200980e-05</td>\n",
       "      <td>9.995166e-01</td>\n",
       "    </tr>\n",
       "    <tr>\n",
       "      <th>5</th>\n",
       "      <td>grade:E</td>\n",
       "      <td>4.860321e-05</td>\n",
       "      <td>9.994928e-01</td>\n",
       "    </tr>\n",
       "    <tr>\n",
       "      <th>6</th>\n",
       "      <td>grade:F</td>\n",
       "      <td>2.190215e-04</td>\n",
       "      <td>9.980109e-01</td>\n",
       "    </tr>\n",
       "    <tr>\n",
       "      <th>7</th>\n",
       "      <td>home_ownership:MORTGAGE</td>\n",
       "      <td>-9.481987e-05</td>\n",
       "      <td>9.970475e-01</td>\n",
       "    </tr>\n",
       "    <tr>\n",
       "      <th>8</th>\n",
       "      <td>home_ownership:NONE</td>\n",
       "      <td>2.520283e-06</td>\n",
       "      <td>9.999975e-01</td>\n",
       "    </tr>\n",
       "    <tr>\n",
       "      <th>9</th>\n",
       "      <td>home_ownership:OTHER</td>\n",
       "      <td>-2.069700e-07</td>\n",
       "      <td>9.999996e-01</td>\n",
       "    </tr>\n",
       "    <tr>\n",
       "      <th>10</th>\n",
       "      <td>home_ownership:OWN</td>\n",
       "      <td>-2.026245e-05</td>\n",
       "      <td>9.996118e-01</td>\n",
       "    </tr>\n",
       "    <tr>\n",
       "      <th>11</th>\n",
       "      <td>verification_status:Not Verified</td>\n",
       "      <td>-3.333577e-04</td>\n",
       "      <td>9.912364e-01</td>\n",
       "    </tr>\n",
       "    <tr>\n",
       "      <th>12</th>\n",
       "      <td>verification_status:Source Verified</td>\n",
       "      <td>-4.925004e-04</td>\n",
       "      <td>9.856868e-01</td>\n",
       "    </tr>\n",
       "    <tr>\n",
       "      <th>13</th>\n",
       "      <td>purpose:car</td>\n",
       "      <td>2.778663e-05</td>\n",
       "      <td>9.998128e-01</td>\n",
       "    </tr>\n",
       "    <tr>\n",
       "      <th>14</th>\n",
       "      <td>purpose:debt_consolidation</td>\n",
       "      <td>-4.711374e-04</td>\n",
       "      <td>9.876902e-01</td>\n",
       "    </tr>\n",
       "    <tr>\n",
       "      <th>15</th>\n",
       "      <td>purpose:educational</td>\n",
       "      <td>-1.727734e-06</td>\n",
       "      <td>9.999957e-01</td>\n",
       "    </tr>\n",
       "    <tr>\n",
       "      <th>16</th>\n",
       "      <td>purpose:home_improvement</td>\n",
       "      <td>2.534141e-05</td>\n",
       "      <td>9.996500e-01</td>\n",
       "    </tr>\n",
       "    <tr>\n",
       "      <th>17</th>\n",
       "      <td>purpose:house</td>\n",
       "      <td>3.012308e-05</td>\n",
       "      <td>9.998347e-01</td>\n",
       "    </tr>\n",
       "    <tr>\n",
       "      <th>18</th>\n",
       "      <td>purpose:major_purchase</td>\n",
       "      <td>4.216792e-05</td>\n",
       "      <td>9.996165e-01</td>\n",
       "    </tr>\n",
       "    <tr>\n",
       "      <th>19</th>\n",
       "      <td>purpose:medical</td>\n",
       "      <td>1.578216e-06</td>\n",
       "      <td>9.999882e-01</td>\n",
       "    </tr>\n",
       "    <tr>\n",
       "      <th>20</th>\n",
       "      <td>purpose:moving</td>\n",
       "      <td>6.147367e-06</td>\n",
       "      <td>9.999597e-01</td>\n",
       "    </tr>\n",
       "    <tr>\n",
       "      <th>21</th>\n",
       "      <td>purpose:other</td>\n",
       "      <td>8.732481e-05</td>\n",
       "      <td>9.986947e-01</td>\n",
       "    </tr>\n",
       "    <tr>\n",
       "      <th>22</th>\n",
       "      <td>purpose:renewable_energy</td>\n",
       "      <td>8.638925e-06</td>\n",
       "      <td>9.999801e-01</td>\n",
       "    </tr>\n",
       "    <tr>\n",
       "      <th>23</th>\n",
       "      <td>purpose:small_business</td>\n",
       "      <td>1.247793e-04</td>\n",
       "      <td>9.986397e-01</td>\n",
       "    </tr>\n",
       "    <tr>\n",
       "      <th>24</th>\n",
       "      <td>purpose:vacation</td>\n",
       "      <td>9.698204e-06</td>\n",
       "      <td>9.999470e-01</td>\n",
       "    </tr>\n",
       "    <tr>\n",
       "      <th>25</th>\n",
       "      <td>purpose:wedding</td>\n",
       "      <td>2.553712e-05</td>\n",
       "      <td>9.998643e-01</td>\n",
       "    </tr>\n",
       "    <tr>\n",
       "      <th>26</th>\n",
       "      <td>initial_list_status:w</td>\n",
       "      <td>-2.162367e-03</td>\n",
       "      <td>9.363813e-01</td>\n",
       "    </tr>\n",
       "    <tr>\n",
       "      <th>27</th>\n",
       "      <td>term_int</td>\n",
       "      <td>-1.019918e-02</td>\n",
       "      <td>5.307850e-05</td>\n",
       "    </tr>\n",
       "    <tr>\n",
       "      <th>28</th>\n",
       "      <td>emp_length_int</td>\n",
       "      <td>-1.288019e-03</td>\n",
       "      <td>6.772483e-01</td>\n",
       "    </tr>\n",
       "    <tr>\n",
       "      <th>29</th>\n",
       "      <td>mths_since_issue_d</td>\n",
       "      <td>2.701146e-02</td>\n",
       "      <td>1.321641e-185</td>\n",
       "    </tr>\n",
       "    <tr>\n",
       "      <th>30</th>\n",
       "      <td>mths_since_earliest_cr_line</td>\n",
       "      <td>-1.340753e-03</td>\n",
       "      <td>3.169044e-19</td>\n",
       "    </tr>\n",
       "    <tr>\n",
       "      <th>31</th>\n",
       "      <td>funded_amnt</td>\n",
       "      <td>4.549876e-05</td>\n",
       "      <td>6.256153e-06</td>\n",
       "    </tr>\n",
       "    <tr>\n",
       "      <th>32</th>\n",
       "      <td>int_rate</td>\n",
       "      <td>-3.005435e-04</td>\n",
       "      <td>9.592391e-01</td>\n",
       "    </tr>\n",
       "    <tr>\n",
       "      <th>33</th>\n",
       "      <td>installment</td>\n",
       "      <td>-8.806793e-04</td>\n",
       "      <td>4.915796e-03</td>\n",
       "    </tr>\n",
       "    <tr>\n",
       "      <th>34</th>\n",
       "      <td>annual_inc</td>\n",
       "      <td>3.466996e-07</td>\n",
       "      <td>3.240336e-01</td>\n",
       "    </tr>\n",
       "    <tr>\n",
       "      <th>35</th>\n",
       "      <td>dti</td>\n",
       "      <td>-1.521180e-02</td>\n",
       "      <td>2.506073e-20</td>\n",
       "    </tr>\n",
       "    <tr>\n",
       "      <th>36</th>\n",
       "      <td>delinq_2yrs</td>\n",
       "      <td>-8.044666e-05</td>\n",
       "      <td>9.956543e-01</td>\n",
       "    </tr>\n",
       "    <tr>\n",
       "      <th>37</th>\n",
       "      <td>inq_last_6mths</td>\n",
       "      <td>3.385741e-04</td>\n",
       "      <td>9.720321e-01</td>\n",
       "    </tr>\n",
       "    <tr>\n",
       "      <th>38</th>\n",
       "      <td>mths_since_last_delinq</td>\n",
       "      <td>-1.659650e-04</td>\n",
       "      <td>7.461527e-01</td>\n",
       "    </tr>\n",
       "    <tr>\n",
       "      <th>39</th>\n",
       "      <td>mths_since_last_record</td>\n",
       "      <td>-3.275210e-03</td>\n",
       "      <td>1.507286e-07</td>\n",
       "    </tr>\n",
       "    <tr>\n",
       "      <th>40</th>\n",
       "      <td>open_acc</td>\n",
       "      <td>-5.848223e-03</td>\n",
       "      <td>7.684708e-02</td>\n",
       "    </tr>\n",
       "    <tr>\n",
       "      <th>41</th>\n",
       "      <td>pub_rec</td>\n",
       "      <td>-9.028061e-05</td>\n",
       "      <td>9.981906e-01</td>\n",
       "    </tr>\n",
       "    <tr>\n",
       "      <th>42</th>\n",
       "      <td>total_acc</td>\n",
       "      <td>-1.283234e-02</td>\n",
       "      <td>2.458815e-18</td>\n",
       "    </tr>\n",
       "    <tr>\n",
       "      <th>43</th>\n",
       "      <td>acc_now_delinq</td>\n",
       "      <td>1.188883e-05</td>\n",
       "      <td>9.999461e-01</td>\n",
       "    </tr>\n",
       "    <tr>\n",
       "      <th>44</th>\n",
       "      <td>total_rev_hi_lim</td>\n",
       "      <td>-1.086517e-06</td>\n",
       "      <td>9.928351e-02</td>\n",
       "    </tr>\n",
       "  </tbody>\n",
       "</table>\n",
       "</div>"
      ],
      "text/plain": [
       "                           Feature name  Coefficients       p_values\n",
       "0                             Intercept -4.053534e-04            NaN\n",
       "1                               grade:A -6.164895e-05   9.994270e-01\n",
       "2                               grade:B -2.687978e-04   9.969014e-01\n",
       "3                               grade:C -4.215971e-04   9.949535e-01\n",
       "4                               grade:D  4.200980e-05   9.995166e-01\n",
       "5                               grade:E  4.860321e-05   9.994928e-01\n",
       "6                               grade:F  2.190215e-04   9.980109e-01\n",
       "7               home_ownership:MORTGAGE -9.481987e-05   9.970475e-01\n",
       "8                   home_ownership:NONE  2.520283e-06   9.999975e-01\n",
       "9                  home_ownership:OTHER -2.069700e-07   9.999996e-01\n",
       "10                   home_ownership:OWN -2.026245e-05   9.996118e-01\n",
       "11     verification_status:Not Verified -3.333577e-04   9.912364e-01\n",
       "12  verification_status:Source Verified -4.925004e-04   9.856868e-01\n",
       "13                          purpose:car  2.778663e-05   9.998128e-01\n",
       "14           purpose:debt_consolidation -4.711374e-04   9.876902e-01\n",
       "15                  purpose:educational -1.727734e-06   9.999957e-01\n",
       "16             purpose:home_improvement  2.534141e-05   9.996500e-01\n",
       "17                        purpose:house  3.012308e-05   9.998347e-01\n",
       "18               purpose:major_purchase  4.216792e-05   9.996165e-01\n",
       "19                      purpose:medical  1.578216e-06   9.999882e-01\n",
       "20                       purpose:moving  6.147367e-06   9.999597e-01\n",
       "21                        purpose:other  8.732481e-05   9.986947e-01\n",
       "22             purpose:renewable_energy  8.638925e-06   9.999801e-01\n",
       "23               purpose:small_business  1.247793e-04   9.986397e-01\n",
       "24                     purpose:vacation  9.698204e-06   9.999470e-01\n",
       "25                      purpose:wedding  2.553712e-05   9.998643e-01\n",
       "26                initial_list_status:w -2.162367e-03   9.363813e-01\n",
       "27                             term_int -1.019918e-02   5.307850e-05\n",
       "28                       emp_length_int -1.288019e-03   6.772483e-01\n",
       "29                   mths_since_issue_d  2.701146e-02  1.321641e-185\n",
       "30          mths_since_earliest_cr_line -1.340753e-03   3.169044e-19\n",
       "31                          funded_amnt  4.549876e-05   6.256153e-06\n",
       "32                             int_rate -3.005435e-04   9.592391e-01\n",
       "33                          installment -8.806793e-04   4.915796e-03\n",
       "34                           annual_inc  3.466996e-07   3.240336e-01\n",
       "35                                  dti -1.521180e-02   2.506073e-20\n",
       "36                          delinq_2yrs -8.044666e-05   9.956543e-01\n",
       "37                       inq_last_6mths  3.385741e-04   9.720321e-01\n",
       "38               mths_since_last_delinq -1.659650e-04   7.461527e-01\n",
       "39               mths_since_last_record -3.275210e-03   1.507286e-07\n",
       "40                             open_acc -5.848223e-03   7.684708e-02\n",
       "41                              pub_rec -9.028061e-05   9.981906e-01\n",
       "42                            total_acc -1.283234e-02   2.458815e-18\n",
       "43                       acc_now_delinq  1.188883e-05   9.999461e-01\n",
       "44                     total_rev_hi_lim -1.086517e-06   9.928351e-02"
      ]
     },
     "execution_count": 19,
     "metadata": {},
     "output_type": "execute_result"
    }
   ],
   "source": [
    "summary_table"
   ]
  },
  {
   "cell_type": "markdown",
   "metadata": {},
   "source": [
    "จากตารางข้างบนพบว่า ค่า p-values ของตัวแปรจำนวนมาก ไม่ได้มีนัยสำคัญทางสถิติ หมายความว่า...\n",
    "\n",
    "ตัวแปรที่ไม่ได้มีนัยสำคัญทางสถิติ ไม่ว่าจะตัดทิ้งไปหรือจะเก็บเอาไว้ ความสามารถในการทำนายของตัว LGD stage 1 model (Logistic Regression) ก็ยังคงเหมือนเดิมแทบจะไม่เปลี่ยนแปลง\n",
    "\n",
    "ค่าสัมประสิทธิ์ของ LGD stage 1 model (Logistic Regression) หมายความว่าทุกหนึ่งหน่วยของตัวแปรที่เพิ่มขึ้นจะทำให้ค่า ln(odds) เปลี่ยนไปเท่ากับค่าสัมประสิทธิ์ของตัวแปรนั้น โดยแปรผลได้ดังนี้\n",
    "\n",
    ">ยกตัวอย่าง: ถ้า purpose เป็น educational ค่า ln(odds) ของการกู้ยืมที่มี recovery rate มากกว่า 0 จะลดลง 1.727734e-06 หรือ 0.00000173\n",
    "\n",
    "ค่าสัมประสิทธิ์ครั้งนี้ ต่างจากตอนทำ PD model คือมีตัวแปรประเภท continuous ด้วย ซึ่งตัวแปรประเภท continuous จะแปรผลได้ดังนี้\n",
    "\n",
    ">ยกตัวอย่าง: ทุกหนึ่งหน่วยของ funded_amnt (จำนวนเงินที่ปล่อยกู้) ที่เพิ่มขึ้น ค่า ln(odds) ของการกู้ยืมที่มี recovery rate มากกว่า 0 จะเพิ่มขึ้น 4.549876e-05 หรือ 0.000045\n",
    ">\n",
    ">ยกตัวอย่าง: ทุกหนึ่งหน่วยของ dti (อัตราส่วนภาระหนี้ต่อเดือน หารรายได้ต่อเดือน) ที่เพิ่มขึ้น ค่า ln(odds) ของการกู้ยืมที่มี recovery rate มากกว่า 0 จะลดลง 1.521180e-02 หรือ 0.015"
   ]
  },
  {
   "cell_type": "markdown",
   "metadata": {},
   "source": [
    "### Testing the Model (LGD stage 1 model)"
   ]
  },
  {
   "cell_type": "markdown",
   "metadata": {},
   "source": [
    "เลือกเก็บเฉพาะตัวแปรที่ต้องการใช้เท่านั้น:"
   ]
  },
  {
   "cell_type": "code",
   "execution_count": 20,
   "metadata": {},
   "outputs": [],
   "source": [
    "lgd_inputs_stage_1_test = lgd_inputs_stage_1_test[features_all]"
   ]
  },
  {
   "cell_type": "markdown",
   "metadata": {},
   "source": [
    "ทำการ drop ตัวแปรที่เป็น dummy variable reference categories:"
   ]
  },
  {
   "cell_type": "code",
   "execution_count": 21,
   "metadata": {},
   "outputs": [],
   "source": [
    "lgd_inputs_stage_1_test = lgd_inputs_stage_1_test.drop(features_reference_cat, axis = 1)"
   ]
  },
  {
   "cell_type": "markdown",
   "metadata": {},
   "source": [
    "ทำการทำนายโดยใช้ LGD stage 1 model (Logistic Regression)\n",
    "\n",
    "(ทำนายโดยใช้ default cut-off ที่ 50%; นั่นคือ <= 50% จะทำนายว่า recovery_rate เท่ากับ 0; หาก > 50% จะทำนายว่า recovery_rate มากกว่า 0):"
   ]
  },
  {
   "cell_type": "code",
   "execution_count": 22,
   "metadata": {},
   "outputs": [],
   "source": [
    "y_hat_test_lgd_stage_1 = reg_lgd_st_1.model.predict(lgd_inputs_stage_1_test)"
   ]
  },
  {
   "cell_type": "code",
   "execution_count": 23,
   "metadata": {
    "scrolled": false
   },
   "outputs": [
    {
     "data": {
      "text/plain": [
       "array([1, 1, 0, ..., 1, 1, 0])"
      ]
     },
     "execution_count": 23,
     "metadata": {},
     "output_type": "execute_result"
    }
   ],
   "source": [
    "y_hat_test_lgd_stage_1"
   ]
  },
  {
   "cell_type": "markdown",
   "metadata": {},
   "source": [
    "ทำการทำนายโดยใช้ LGD stage 1 model (Logistic Regression)\n",
    "\n",
    "(โดยจะไม่ทำนายเป็นผลลัพธ์ว่า recovery_rate เท่ากับ 0 หรือมากกว่า 0 แต่จะให้ผลลัพธ์คือความน่าจะเป็นดิบ หรือ raw probabilities):"
   ]
  },
  {
   "cell_type": "code",
   "execution_count": 24,
   "metadata": {},
   "outputs": [],
   "source": [
    "y_hat_test_proba_lgd_stage_1 = reg_lgd_st_1.model.predict_proba(lgd_inputs_stage_1_test)"
   ]
  },
  {
   "cell_type": "code",
   "execution_count": 25,
   "metadata": {
    "scrolled": true
   },
   "outputs": [
    {
     "data": {
      "text/plain": [
       "array([[0.41693255, 0.58306745],\n",
       "       [0.3683145 , 0.6316855 ],\n",
       "       [0.58433537, 0.41566463],\n",
       "       ...,\n",
       "       [0.47401823, 0.52598177],\n",
       "       [0.41662074, 0.58337926],\n",
       "       [0.55939917, 0.44060083]])"
      ]
     },
     "execution_count": 25,
     "metadata": {},
     "output_type": "execute_result"
    }
   ],
   "source": [
    "y_hat_test_proba_lgd_stage_1"
   ]
  },
  {
   "cell_type": "markdown",
   "metadata": {},
   "source": [
    "จาก array ข้างบน:\n",
    "\n",
    "- column แรกคือ ความน่าจะเป็นที่ recovery_rate เท่ากับ 0\n",
    "- column ที่สองคือ ความน่าจะเป็นที่ recovery_rate มากกว่า 0\n",
    "\n",
    "เลือกเก็บเฉพาะ column ที่สอง (ความน่าจะเป็นที่ recovery_rate มากกว่า 0):"
   ]
  },
  {
   "cell_type": "code",
   "execution_count": 26,
   "metadata": {},
   "outputs": [],
   "source": [
    "y_hat_test_proba_lgd_stage_1 = y_hat_test_proba_lgd_stage_1[: ][: , 1]"
   ]
  },
  {
   "cell_type": "code",
   "execution_count": 27,
   "metadata": {},
   "outputs": [
    {
     "data": {
      "text/plain": [
       "array([0.58306745, 0.6316855 , 0.41566463, ..., 0.52598177, 0.58337926,\n",
       "       0.44060083])"
      ]
     },
     "execution_count": 27,
     "metadata": {},
     "output_type": "execute_result"
    }
   ],
   "source": [
    "y_hat_test_proba_lgd_stage_1"
   ]
  },
  {
   "cell_type": "markdown",
   "metadata": {},
   "source": [
    "ทำการรวมค่าจริง (lgd_targets_stage_1_test_temp) กับค่าทำนาย (y_hat_test_proba_lgd_stage_1) ไว้ใน DataFrame เดียวกัน สำหรับการประเมินความแม่นยำของ model:"
   ]
  },
  {
   "cell_type": "code",
   "execution_count": 28,
   "metadata": {},
   "outputs": [],
   "source": [
    "lgd_targets_stage_1_test_temp = lgd_targets_stage_1_test"
   ]
  },
  {
   "cell_type": "code",
   "execution_count": 29,
   "metadata": {},
   "outputs": [],
   "source": [
    "lgd_targets_stage_1_test_temp.reset_index(drop = True, inplace = True)"
   ]
  },
  {
   "cell_type": "code",
   "execution_count": 30,
   "metadata": {},
   "outputs": [],
   "source": [
    "df_actual_predicted_probs = pd.concat([lgd_targets_stage_1_test_temp, pd.DataFrame(y_hat_test_proba_lgd_stage_1)], axis = 1)"
   ]
  },
  {
   "cell_type": "code",
   "execution_count": 31,
   "metadata": {},
   "outputs": [],
   "source": [
    "df_actual_predicted_probs.columns = ['lgd_targets_stage_1_test', 'y_hat_test_proba_lgd_stage_1']"
   ]
  },
  {
   "cell_type": "code",
   "execution_count": 32,
   "metadata": {},
   "outputs": [],
   "source": [
    "df_actual_predicted_probs.index = lgd_inputs_stage_1_test.index"
   ]
  },
  {
   "cell_type": "code",
   "execution_count": 33,
   "metadata": {
    "scrolled": true
   },
   "outputs": [
    {
     "data": {
      "text/html": [
       "<div>\n",
       "<style scoped>\n",
       "    .dataframe tbody tr th:only-of-type {\n",
       "        vertical-align: middle;\n",
       "    }\n",
       "\n",
       "    .dataframe tbody tr th {\n",
       "        vertical-align: top;\n",
       "    }\n",
       "\n",
       "    .dataframe thead th {\n",
       "        text-align: right;\n",
       "    }\n",
       "</style>\n",
       "<table border=\"1\" class=\"dataframe\">\n",
       "  <thead>\n",
       "    <tr style=\"text-align: right;\">\n",
       "      <th></th>\n",
       "      <th>lgd_targets_stage_1_test</th>\n",
       "      <th>y_hat_test_proba_lgd_stage_1</th>\n",
       "    </tr>\n",
       "  </thead>\n",
       "  <tbody>\n",
       "    <tr>\n",
       "      <th>21362</th>\n",
       "      <td>1</td>\n",
       "      <td>0.583067</td>\n",
       "    </tr>\n",
       "    <tr>\n",
       "      <th>8768</th>\n",
       "      <td>1</td>\n",
       "      <td>0.631686</td>\n",
       "    </tr>\n",
       "    <tr>\n",
       "      <th>11903</th>\n",
       "      <td>0</td>\n",
       "      <td>0.415665</td>\n",
       "    </tr>\n",
       "    <tr>\n",
       "      <th>42973</th>\n",
       "      <td>1</td>\n",
       "      <td>0.553585</td>\n",
       "    </tr>\n",
       "    <tr>\n",
       "      <th>29933</th>\n",
       "      <td>0</td>\n",
       "      <td>0.422103</td>\n",
       "    </tr>\n",
       "  </tbody>\n",
       "</table>\n",
       "</div>"
      ],
      "text/plain": [
       "       lgd_targets_stage_1_test  y_hat_test_proba_lgd_stage_1\n",
       "21362                         1                      0.583067\n",
       "8768                          1                      0.631686\n",
       "11903                         0                      0.415665\n",
       "42973                         1                      0.553585\n",
       "29933                         0                      0.422103"
      ]
     },
     "execution_count": 33,
     "metadata": {},
     "output_type": "execute_result"
    }
   ],
   "source": [
    "df_actual_predicted_probs.head()"
   ]
  },
  {
   "cell_type": "markdown",
   "metadata": {},
   "source": [
    "### Estimating the Аccuracy of the Мodel (LGD stage 1 model)"
   ]
  },
  {
   "cell_type": "markdown",
   "metadata": {},
   "source": [
    "การประเมินความแม่นยำของ model"
   ]
  },
  {
   "cell_type": "markdown",
   "metadata": {},
   "source": [
    "#### ทำนาย Probability of Default (PD) โดยใช้ threshold หรือ cut-off probability เท่ากับ 50%:"
   ]
  },
  {
   "cell_type": "code",
   "execution_count": 34,
   "metadata": {},
   "outputs": [],
   "source": [
    "tr = 0.5\n",
    "df_actual_predicted_probs['y_hat_test_lgd_stage_1'] = np.where(df_actual_predicted_probs['y_hat_test_proba_lgd_stage_1'] > tr, 1, 0)"
   ]
  },
  {
   "cell_type": "markdown",
   "metadata": {},
   "source": [
    "แสดง confusion matrix:"
   ]
  },
  {
   "cell_type": "code",
   "execution_count": 35,
   "metadata": {
    "scrolled": true
   },
   "outputs": [
    {
     "data": {
      "text/html": [
       "<div>\n",
       "<style scoped>\n",
       "    .dataframe tbody tr th:only-of-type {\n",
       "        vertical-align: middle;\n",
       "    }\n",
       "\n",
       "    .dataframe tbody tr th {\n",
       "        vertical-align: top;\n",
       "    }\n",
       "\n",
       "    .dataframe thead th {\n",
       "        text-align: right;\n",
       "    }\n",
       "</style>\n",
       "<table border=\"1\" class=\"dataframe\">\n",
       "  <thead>\n",
       "    <tr style=\"text-align: right;\">\n",
       "      <th>Predicted</th>\n",
       "      <th>0</th>\n",
       "      <th>1</th>\n",
       "    </tr>\n",
       "    <tr>\n",
       "      <th>Actual</th>\n",
       "      <th></th>\n",
       "      <th></th>\n",
       "    </tr>\n",
       "  </thead>\n",
       "  <tbody>\n",
       "    <tr>\n",
       "      <th>0</th>\n",
       "      <td>1557</td>\n",
       "      <td>2205</td>\n",
       "    </tr>\n",
       "    <tr>\n",
       "      <th>1</th>\n",
       "      <td>1057</td>\n",
       "      <td>3829</td>\n",
       "    </tr>\n",
       "  </tbody>\n",
       "</table>\n",
       "</div>"
      ],
      "text/plain": [
       "Predicted     0     1\n",
       "Actual               \n",
       "0          1557  2205\n",
       "1          1057  3829"
      ]
     },
     "execution_count": 35,
     "metadata": {},
     "output_type": "execute_result"
    }
   ],
   "source": [
    "pd.crosstab(df_actual_predicted_probs['lgd_targets_stage_1_test'],\n",
    "            df_actual_predicted_probs['y_hat_test_lgd_stage_1'],\n",
    "            rownames = ['Actual'],\n",
    "            colnames = ['Predicted'])"
   ]
  },
  {
   "cell_type": "markdown",
   "metadata": {},
   "source": [
    "จาก confusion matrix ข้างบน ที่ threshold เท่ากับ 50% พบว่า:\n",
    "- มี 1557 การกู้ยืม ที่ทำนายถูก ว่า recovery_rate = 0\n",
    "- มี 1057 การกู้ยืม ที่ทำนายผิด ว่า recovery_rate = 0\n",
    "- มี 3829 การกู้ยืม ที่ทำนายถูก ว่า recovery_rate > 0\n",
    "- มี 2205 การกู้ยืม ที่ทำนายผิด ว่า recovery_rate > 0"
   ]
  },
  {
   "cell_type": "markdown",
   "metadata": {},
   "source": [
    "แสดง confusion matrix (แสดงเป็นสัดส่วนต่อผู้ขอกู้ทั้งหมด):"
   ]
  },
  {
   "cell_type": "code",
   "execution_count": 36,
   "metadata": {
    "scrolled": false
   },
   "outputs": [
    {
     "data": {
      "text/html": [
       "<div>\n",
       "<style scoped>\n",
       "    .dataframe tbody tr th:only-of-type {\n",
       "        vertical-align: middle;\n",
       "    }\n",
       "\n",
       "    .dataframe tbody tr th {\n",
       "        vertical-align: top;\n",
       "    }\n",
       "\n",
       "    .dataframe thead th {\n",
       "        text-align: right;\n",
       "    }\n",
       "</style>\n",
       "<table border=\"1\" class=\"dataframe\">\n",
       "  <thead>\n",
       "    <tr style=\"text-align: right;\">\n",
       "      <th>Predicted</th>\n",
       "      <th>0</th>\n",
       "      <th>1</th>\n",
       "    </tr>\n",
       "    <tr>\n",
       "      <th>Actual</th>\n",
       "      <th></th>\n",
       "      <th></th>\n",
       "    </tr>\n",
       "  </thead>\n",
       "  <tbody>\n",
       "    <tr>\n",
       "      <th>0</th>\n",
       "      <td>0.180042</td>\n",
       "      <td>0.254972</td>\n",
       "    </tr>\n",
       "    <tr>\n",
       "      <th>1</th>\n",
       "      <td>0.122225</td>\n",
       "      <td>0.442761</td>\n",
       "    </tr>\n",
       "  </tbody>\n",
       "</table>\n",
       "</div>"
      ],
      "text/plain": [
       "Predicted         0         1\n",
       "Actual                       \n",
       "0          0.180042  0.254972\n",
       "1          0.122225  0.442761"
      ]
     },
     "execution_count": 36,
     "metadata": {},
     "output_type": "execute_result"
    }
   ],
   "source": [
    "pd.crosstab(df_actual_predicted_probs['lgd_targets_stage_1_test'],\n",
    "            df_actual_predicted_probs['y_hat_test_lgd_stage_1'],\n",
    "            rownames = ['Actual'],\n",
    "            colnames = ['Predicted']) / df_actual_predicted_probs.shape[0]"
   ]
  },
  {
   "cell_type": "markdown",
   "metadata": {},
   "source": [
    "จาก confusion matrix ด้านบนพบ false positive = 25.49% และ false negative = 12.22%"
   ]
  },
  {
   "cell_type": "markdown",
   "metadata": {},
   "source": [
    "คำนวณค่า accuracy ของ model ตัวนี้ (สัดส่วนของจำนวนที่ทำนายถูกทั้งหมดต่อผู้ขอกู้ทั้งหมด):"
   ]
  },
  {
   "cell_type": "code",
   "execution_count": 37,
   "metadata": {
    "scrolled": false
   },
   "outputs": [
    {
     "data": {
      "text/plain": [
       "0.6228029602220166"
      ]
     },
     "execution_count": 37,
     "metadata": {},
     "output_type": "execute_result"
    }
   ],
   "source": [
    "# True Negative\n",
    "tn = (pd.crosstab(df_actual_predicted_probs['lgd_targets_stage_1_test'],\n",
    "                  df_actual_predicted_probs['y_hat_test_lgd_stage_1'],\n",
    "                  rownames = ['Actual'],\n",
    "                  colnames = ['Predicted']) / df_actual_predicted_probs.shape[0]).iloc[0, 0]\n",
    "\n",
    "# True Positive\n",
    "tp = (pd.crosstab(df_actual_predicted_probs['lgd_targets_stage_1_test'],\n",
    "                  df_actual_predicted_probs['y_hat_test_lgd_stage_1'],\n",
    "                  rownames = ['Actual'],\n",
    "                  colnames = ['Predicted']) / df_actual_predicted_probs.shape[0]).iloc[1, 1]\n",
    "\n",
    "tn + tp"
   ]
  },
  {
   "cell_type": "markdown",
   "metadata": {},
   "source": [
    "จากข้างบนเป็นค่า accuracy ที่ threshold เท่ากับ 50% เท่านั้น\n",
    "\n",
    "ถ้าวาดกราฟ Receiver Operating Characteristic (ROC) ทุกจุดบนเส้น curve คือแต่ละ threshold ดังนั้น กราฟ ROC จะให้ข้อมูลมากกว่าสำหรับการนำไปใช้ประเมินประสิทธิภาพของตัว model "
   ]
  },
  {
   "cell_type": "markdown",
   "metadata": {},
   "source": [
    "คำนวณ false positive rates, true positive rates, thresholds:"
   ]
  },
  {
   "cell_type": "code",
   "execution_count": 38,
   "metadata": {},
   "outputs": [],
   "source": [
    "from sklearn.metrics import roc_curve, roc_auc_score"
   ]
  },
  {
   "cell_type": "code",
   "execution_count": 39,
   "metadata": {},
   "outputs": [],
   "source": [
    "fpr, tpr, thresholds = roc_curve(df_actual_predicted_probs['lgd_targets_stage_1_test'],\n",
    "                                 df_actual_predicted_probs['y_hat_test_proba_lgd_stage_1'])"
   ]
  },
  {
   "cell_type": "markdown",
   "metadata": {},
   "source": [
    "วาดกราฟ Receiver Operating Characteristic (ROC) curve:"
   ]
  },
  {
   "cell_type": "code",
   "execution_count": 40,
   "metadata": {
    "scrolled": false
   },
   "outputs": [
    {
     "data": {
      "text/plain": [
       "Text(0.5, 1.0, 'ROC curve')"
      ]
     },
     "execution_count": 40,
     "metadata": {},
     "output_type": "execute_result"
    },
    {
     "data": {
      "image/png": "[encoded data removed]",
      "text/plain": [
       "<Figure size 640x480 with 1 Axes>"
      ]
     },
     "metadata": {},
     "output_type": "display_data"
    }
   ],
   "source": [
    "# Plot the ROC curve.\n",
    "plt.plot(fpr, tpr)\n",
    "\n",
    "# Plot a secondary diagonal dashed line.\n",
    "plt.plot(fpr, fpr, linestyle = '--', color = 'k')\n",
    "\n",
    "plt.xlabel('False positive rate')\n",
    "plt.ylabel('True positive rate')\n",
    "plt.title('ROC curve')"
   ]
  },
  {
   "cell_type": "markdown",
   "metadata": {},
   "source": [
    "คำนวณ Area Under the Curve (AUC):"
   ]
  },
  {
   "cell_type": "code",
   "execution_count": 41,
   "metadata": {},
   "outputs": [
    {
     "data": {
      "text/plain": [
       "0.6572667015285022"
      ]
     },
     "execution_count": 41,
     "metadata": {},
     "output_type": "execute_result"
    }
   ],
   "source": [
    "AUROC = roc_auc_score(df_actual_predicted_probs['lgd_targets_stage_1_test'], df_actual_predicted_probs['y_hat_test_proba_lgd_stage_1'])\n",
    "AUROC"
   ]
  },
  {
   "cell_type": "markdown",
   "metadata": {},
   "source": [
    "สำหรับเหตุการณ์ที่เกิดขึ้นอย่างบังเอิญ เช่น การโยนเหรียญมีโอกาสออกหัวก้อย 50/50 นั้น:\n",
    "- Area Under the Curve (AUC) มีค่าเท่ากับ 50%\n",
    "\n",
    "สำหรับ PD model นี้:\n",
    "- Area Under the Curve (AUC) มีค่าเท่ากับ 65.73%\n",
    "- AUC = 65.73% นี้ โดยทั่วไปถือว่าสามารถทำนายได้ดีปานกลาง"
   ]
  },
  {
   "cell_type": "markdown",
   "metadata": {},
   "source": [
    "เนื่องจาก model นี้เป็น stage 1 เพื่อหาว่า recovery rate มีค่าเท่ากับ 0 หรือมากกว่า 0\n",
    "\n",
    "ดังนั้น ใน stage 1 นี้ จึงควรทำให้จำนวนการกู้ยืมที่ \"ทำนายถูกว่า recovery_rate > 0\" มีมากกว่า \"การทำนายถูกว่า recovery_rate = 0\"\n",
    "\n",
    "เพราะถึงแม้ว่าจะมีบางการกู้ยืมที่โดน \"ทำนายผิดว่า recovery_rate > 0\" หลุดไปยัง model ของ stage 2 ในขั้นตอนต่อไปได้ การกู้ยืมที่หลุดไปนี้ก็ยังคงมีโอกาสถูกทำนายใหม่อีกครั้งให้ถูกต้องว่ามีค่า = 0 ได้"
   ]
  },
  {
   "cell_type": "markdown",
   "metadata": {},
   "source": [
    "### Saving the Model (LGD stage 1 model)"
   ]
  },
  {
   "cell_type": "markdown",
   "metadata": {},
   "source": [
    "บันทึก LGD model (stage 1) ลง disk:"
   ]
  },
  {
   "cell_type": "code",
   "execution_count": 42,
   "metadata": {},
   "outputs": [],
   "source": [
    "import pickle"
   ]
  },
  {
   "cell_type": "code",
   "execution_count": 43,
   "metadata": {},
   "outputs": [],
   "source": [
    "filehandler = open('./data/lgd_model_stage_1.pkl','wb')\n",
    "pickle.dump(reg_lgd_st_1,filehandler)\n",
    "filehandler.close()"
   ]
  },
  {
   "cell_type": "markdown",
   "metadata": {},
   "source": [
    "---"
   ]
  },
  {
   "cell_type": "markdown",
   "metadata": {},
   "source": [
    "## <font color='darkorange'>*Stage 2: Linear Regression*</font>"
   ]
  },
  {
   "cell_type": "markdown",
   "metadata": {},
   "source": [
    "Stage 2: linear regression จะทำนายเฉพาะการกู้ยืมที่มีค่า recovery rate มากกว่า 0 ว่า ค่า recovery rate นั้น มีค่าเท่ากับเท่าไร"
   ]
  },
  {
   "cell_type": "markdown",
   "metadata": {},
   "source": [
    "เลือกเฉพาะการกู้ยืมที่ model ใน stage 1 ได้ทำนายไว้ว่ามีค่า recovery rate มากกว่า 0 (นั่นคือ recovery_rate_0_1 = 1):"
   ]
  },
  {
   "cell_type": "code",
   "execution_count": 44,
   "metadata": {},
   "outputs": [],
   "source": [
    "lgd_stage_2_data = loan_data_defaults[loan_data_defaults['recovery_rate_0_1'] == 1]"
   ]
  },
  {
   "cell_type": "markdown",
   "metadata": {},
   "source": [
    "ใช้ input เป็น lgd_stage_2_data แต่ drop ตัวแปรตาม good_bad, recovery_rate, recovery_rate_0_1, CCF\n",
    "\n",
    "ใช้ target เป็น recovery_rate\n",
    "\n",
    "ดังนี้:"
   ]
  },
  {
   "cell_type": "code",
   "execution_count": 45,
   "metadata": {},
   "outputs": [],
   "source": [
    "lgd_inputs_stage_2_train, lgd_inputs_stage_2_test, lgd_targets_stage_2_train, lgd_targets_stage_2_test = train_test_split(lgd_stage_2_data.drop(['good_bad', 'recovery_rate','recovery_rate_0_1', 'CCF'], axis = 1), lgd_stage_2_data['recovery_rate'], test_size = 0.2, random_state = 42)"
   ]
  },
  {
   "cell_type": "code",
   "execution_count": 46,
   "metadata": {},
   "outputs": [],
   "source": [
    "from sklearn import linear_model\n",
    "from sklearn.metrics import mean_squared_error, r2_score"
   ]
  },
  {
   "cell_type": "markdown",
   "metadata": {},
   "source": [
    "ดัดแปลง .fit() method จาก Linear Regression class เพื่อให้คำนวณ p-values ได้:"
   ]
  },
  {
   "cell_type": "code",
   "execution_count": 47,
   "metadata": {},
   "outputs": [],
   "source": [
    "# Since the p-values are obtained through certain statistics, we need the 'stat' module from scipy.stats\n",
    "import scipy.stats as stat\n",
    "\n",
    "# Since we are using an object oriented language such as Python, we can simply define our own \n",
    "# LinearRegression class (the same one from sklearn)\n",
    "# By typing the code below we will ovewrite a part of the class with one that includes p-values\n",
    "# Here's the full source code of the ORIGINAL class: https://github.com/scikit-learn/scikit-learn/blob/7b136e9/sklearn/linear_model/base.py#L362\n",
    "\n",
    "\n",
    "class LinearRegression(linear_model.LinearRegression):\n",
    "    \"\"\"\n",
    "    LinearRegression class after sklearn's, but calculate t-statistics\n",
    "    and p-values for model coefficients (betas).\n",
    "    Additional attributes available after .fit()\n",
    "    are `t` and `p` which are of the shape (y.shape[1], X.shape[1])\n",
    "    which is (n_features, n_coefs)\n",
    "    This class sets the intercept to 0 by default, since usually we include it\n",
    "    in X.\n",
    "    \"\"\"\n",
    "    \n",
    "    # nothing changes in __init__\n",
    "    def __init__(self, fit_intercept=True, normalize=False, copy_X=True,\n",
    "                 n_jobs=1):\n",
    "\n",
    "        # -------------------------------------------------------\n",
    "        # This function will be provided upon request. Thank you.\n",
    "        # -------------------------------------------------------\n",
    "        \n",
    "    \n",
    "    def fit(self, X, y, n_jobs=1):\n",
    "        \n",
    "        # -------------------------------------------------------\n",
    "        # This function will be provided upon request. Thank you.\n",
    "        # -------------------------------------------------------\n",
    "        \n",
    "        return self"
   ]
  },
  {
   "cell_type": "markdown",
   "metadata": {},
   "source": [
    "เลือกเก็บเฉพาะตัวแปรที่ต้องการใช้เท่านั้น:"
   ]
  },
  {
   "cell_type": "code",
   "execution_count": 48,
   "metadata": {
    "scrolled": false
   },
   "outputs": [],
   "source": [
    "lgd_inputs_stage_2_train = lgd_inputs_stage_2_train[features_all]"
   ]
  },
  {
   "cell_type": "markdown",
   "metadata": {},
   "source": [
    "ทำการ drop ตัวแปรที่เป็น dummy variable reference categories:"
   ]
  },
  {
   "cell_type": "code",
   "execution_count": 49,
   "metadata": {},
   "outputs": [],
   "source": [
    "lgd_inputs_stage_2_train = lgd_inputs_stage_2_train.drop(features_reference_cat, axis = 1)"
   ]
  },
  {
   "cell_type": "markdown",
   "metadata": {},
   "source": [
    "สร้าง instance โดยใช้ class ที่ผ่านการดัดแปลงให้สามารถคำนวณ p-values ได้:"
   ]
  },
  {
   "cell_type": "code",
   "execution_count": 50,
   "metadata": {},
   "outputs": [],
   "source": [
    "reg_lgd_st_2 = LinearRegression()"
   ]
  },
  {
   "cell_type": "markdown",
   "metadata": {},
   "source": [
    "ทำการ fit model:"
   ]
  },
  {
   "cell_type": "code",
   "execution_count": 51,
   "metadata": {
    "scrolled": true
   },
   "outputs": [
    {
     "data": {
      "text/html": [
       "<style>#sk-container-id-1 {color: black;}#sk-container-id-1 pre{padding: 0;}#sk-container-id-1 div.sk-toggleable {background-color: white;}#sk-container-id-1 label.sk-toggleable__label {cursor: pointer;display: block;width: 100%;margin-bottom: 0;padding: 0.3em;box-sizing: border-box;text-align: center;}#sk-container-id-1 label.sk-toggleable__label-arrow:before {content: \"▸\";float: left;margin-right: 0.25em;color: #696969;}#sk-container-id-1 label.sk-toggleable__label-arrow:hover:before {color: black;}#sk-container-id-1 div.sk-estimator:hover label.sk-toggleable__label-arrow:before {color: black;}#sk-container-id-1 div.sk-toggleable__content {max-height: 0;max-width: 0;overflow: hidden;text-align: left;background-color: #f0f8ff;}#sk-container-id-1 div.sk-toggleable__content pre {margin: 0.2em;color: black;border-radius: 0.25em;background-color: #f0f8ff;}#sk-container-id-1 input.sk-toggleable__control:checked~div.sk-toggleable__content {max-height: 200px;max-width: 100%;overflow: auto;}#sk-container-id-1 input.sk-toggleable__control:checked~label.sk-toggleable__label-arrow:before {content: \"▾\";}#sk-container-id-1 div.sk-estimator input.sk-toggleable__control:checked~label.sk-toggleable__label {background-color: #d4ebff;}#sk-container-id-1 div.sk-label input.sk-toggleable__control:checked~label.sk-toggleable__label {background-color: #d4ebff;}#sk-container-id-1 input.sk-hidden--visually {border: 0;clip: rect(1px 1px 1px 1px);clip: rect(1px, 1px, 1px, 1px);height: 1px;margin: -1px;overflow: hidden;padding: 0;position: absolute;width: 1px;}#sk-container-id-1 div.sk-estimator {font-family: monospace;background-color: #f0f8ff;border: 1px dotted black;border-radius: 0.25em;box-sizing: border-box;margin-bottom: 0.5em;}#sk-container-id-1 div.sk-estimator:hover {background-color: #d4ebff;}#sk-container-id-1 div.sk-parallel-item::after {content: \"\";width: 100%;border-bottom: 1px solid gray;flex-grow: 1;}#sk-container-id-1 div.sk-label:hover label.sk-toggleable__label {background-color: #d4ebff;}#sk-container-id-1 div.sk-serial::before {content: \"\";position: absolute;border-left: 1px solid gray;box-sizing: border-box;top: 0;bottom: 0;left: 50%;z-index: 0;}#sk-container-id-1 div.sk-serial {display: flex;flex-direction: column;align-items: center;background-color: white;padding-right: 0.2em;padding-left: 0.2em;position: relative;}#sk-container-id-1 div.sk-item {position: relative;z-index: 1;}#sk-container-id-1 div.sk-parallel {display: flex;align-items: stretch;justify-content: center;background-color: white;position: relative;}#sk-container-id-1 div.sk-item::before, #sk-container-id-1 div.sk-parallel-item::before {content: \"\";position: absolute;border-left: 1px solid gray;box-sizing: border-box;top: 0;bottom: 0;left: 50%;z-index: -1;}#sk-container-id-1 div.sk-parallel-item {display: flex;flex-direction: column;z-index: 1;position: relative;background-color: white;}#sk-container-id-1 div.sk-parallel-item:first-child::after {align-self: flex-end;width: 50%;}#sk-container-id-1 div.sk-parallel-item:last-child::after {align-self: flex-start;width: 50%;}#sk-container-id-1 div.sk-parallel-item:only-child::after {width: 0;}#sk-container-id-1 div.sk-dashed-wrapped {border: 1px dashed gray;margin: 0 0.4em 0.5em 0.4em;box-sizing: border-box;padding-bottom: 0.4em;background-color: white;}#sk-container-id-1 div.sk-label label {font-family: monospace;font-weight: bold;display: inline-block;line-height: 1.2em;}#sk-container-id-1 div.sk-label-container {text-align: center;}#sk-container-id-1 div.sk-container {/* jupyter's `normalize.less` sets `[hidden] { display: none; }` but bootstrap.min.css set `[hidden] { display: none !important; }` so we also need the `!important` here to be able to override the default hidden behavior on the sphinx rendered scikit-learn.org. See: https://github.com/scikit-learn/scikit-learn/issues/21755 */display: inline-block !important;position: relative;}#sk-container-id-1 div.sk-text-repr-fallback {display: none;}</style><div id=\"sk-container-id-1\" class=\"sk-top-container\"><div class=\"sk-text-repr-fallback\"><pre>LinearRegression()</pre><b>In a Jupyter environment, please rerun this cell to show the HTML representation or trust the notebook. <br />On GitHub, the HTML representation is unable to render, please try loading this page with nbviewer.org.</b></div><div class=\"sk-container\" hidden><div class=\"sk-item\"><div class=\"sk-estimator sk-toggleable\"><input class=\"sk-toggleable__control sk-hidden--visually\" id=\"sk-estimator-id-1\" type=\"checkbox\" checked><label for=\"sk-estimator-id-1\" class=\"sk-toggleable__label sk-toggleable__label-arrow\">LinearRegression</label><div class=\"sk-toggleable__content\"><pre>LinearRegression()</pre></div></div></div></div></div>"
      ],
      "text/plain": [
       "LinearRegression()"
      ]
     },
     "execution_count": 51,
     "metadata": {},
     "output_type": "execute_result"
    }
   ],
   "source": [
    "reg_lgd_st_2.fit(lgd_inputs_stage_2_train, lgd_targets_stage_2_train)"
   ]
  },
  {
   "cell_type": "markdown",
   "metadata": {},
   "source": [
    "แสดงจุดตัดแกน, สัมประสิทธิ์ของ, และ p-values สำหรับ LGD stage 2 model (Linear Regression):"
   ]
  },
  {
   "cell_type": "code",
   "execution_count": 52,
   "metadata": {},
   "outputs": [],
   "source": [
    "feature_name = lgd_inputs_stage_2_train.columns.values"
   ]
  },
  {
   "cell_type": "code",
   "execution_count": 53,
   "metadata": {},
   "outputs": [],
   "source": [
    "# Column titled 'Feature name' with row values contained in the 'feature_name'.\n",
    "summary_table = pd.DataFrame(columns = ['Feature name'], data = feature_name)\n",
    "\n",
    "# Column titled 'Coefficients'\n",
    "# with row values the transposed coefficients from the 'LinearRegression' object\n",
    "summary_table['Coefficients'] = np.transpose(reg_lgd_st_2.coef_)\n",
    "\n",
    "# +1 to the index of every row.\n",
    "summary_table.index = summary_table.index + 1\n",
    "\n",
    "# Assign values of the row with index 0.\n",
    "summary_table.loc[0] = ['Intercept', reg_lgd_st_2.intercept_]\n",
    "\n",
    "# Sort the DataFrame by index.\n",
    "summary_table = summary_table.sort_index()\n",
    "\n",
    "# Take the result of the newly added method 'p_values'.\n",
    "p_values = reg_lgd_st_2.p\n",
    "\n",
    "# Add the 'NaN' value at the beginning of the list,\n",
    "# which is the same position as the intercept row.\n",
    "p_values = np.append(np.nan,np.array(p_values))\n",
    "\n",
    "# Add a new column to the table.\n",
    "summary_table['p_values'] = p_values.round(3)"
   ]
  },
  {
   "cell_type": "code",
   "execution_count": 54,
   "metadata": {
    "scrolled": false
   },
   "outputs": [
    {
     "data": {
      "text/html": [
       "<div>\n",
       "<style scoped>\n",
       "    .dataframe tbody tr th:only-of-type {\n",
       "        vertical-align: middle;\n",
       "    }\n",
       "\n",
       "    .dataframe tbody tr th {\n",
       "        vertical-align: top;\n",
       "    }\n",
       "\n",
       "    .dataframe thead th {\n",
       "        text-align: right;\n",
       "    }\n",
       "</style>\n",
       "<table border=\"1\" class=\"dataframe\">\n",
       "  <thead>\n",
       "    <tr style=\"text-align: right;\">\n",
       "      <th></th>\n",
       "      <th>Feature name</th>\n",
       "      <th>Coefficients</th>\n",
       "      <th>p_values</th>\n",
       "    </tr>\n",
       "  </thead>\n",
       "  <tbody>\n",
       "    <tr>\n",
       "      <th>0</th>\n",
       "      <td>Intercept</td>\n",
       "      <td>2.409222e-01</td>\n",
       "      <td>NaN</td>\n",
       "    </tr>\n",
       "    <tr>\n",
       "      <th>1</th>\n",
       "      <td>grade:A</td>\n",
       "      <td>-6.804653e-02</td>\n",
       "      <td>0.000</td>\n",
       "    </tr>\n",
       "    <tr>\n",
       "      <th>2</th>\n",
       "      <td>grade:B</td>\n",
       "      <td>-5.067942e-02</td>\n",
       "      <td>0.000</td>\n",
       "    </tr>\n",
       "    <tr>\n",
       "      <th>3</th>\n",
       "      <td>grade:C</td>\n",
       "      <td>-3.739224e-02</td>\n",
       "      <td>0.000</td>\n",
       "    </tr>\n",
       "    <tr>\n",
       "      <th>4</th>\n",
       "      <td>grade:D</td>\n",
       "      <td>-2.712438e-02</td>\n",
       "      <td>0.000</td>\n",
       "    </tr>\n",
       "    <tr>\n",
       "      <th>5</th>\n",
       "      <td>grade:E</td>\n",
       "      <td>-1.314241e-02</td>\n",
       "      <td>0.002</td>\n",
       "    </tr>\n",
       "    <tr>\n",
       "      <th>6</th>\n",
       "      <td>grade:F</td>\n",
       "      <td>-5.230491e-03</td>\n",
       "      <td>0.277</td>\n",
       "    </tr>\n",
       "    <tr>\n",
       "      <th>7</th>\n",
       "      <td>home_ownership:MORTGAGE</td>\n",
       "      <td>2.832918e-03</td>\n",
       "      <td>0.060</td>\n",
       "    </tr>\n",
       "    <tr>\n",
       "      <th>8</th>\n",
       "      <td>home_ownership:NONE</td>\n",
       "      <td>1.461056e-01</td>\n",
       "      <td>0.000</td>\n",
       "    </tr>\n",
       "    <tr>\n",
       "      <th>9</th>\n",
       "      <td>home_ownership:OTHER</td>\n",
       "      <td>-9.396799e-03</td>\n",
       "      <td>0.646</td>\n",
       "    </tr>\n",
       "    <tr>\n",
       "      <th>10</th>\n",
       "      <td>home_ownership:OWN</td>\n",
       "      <td>4.974166e-03</td>\n",
       "      <td>0.041</td>\n",
       "    </tr>\n",
       "    <tr>\n",
       "      <th>11</th>\n",
       "      <td>verification_status:Not Verified</td>\n",
       "      <td>1.037018e-03</td>\n",
       "      <td>0.560</td>\n",
       "    </tr>\n",
       "    <tr>\n",
       "      <th>12</th>\n",
       "      <td>verification_status:Source Verified</td>\n",
       "      <td>-1.075936e-03</td>\n",
       "      <td>0.509</td>\n",
       "    </tr>\n",
       "    <tr>\n",
       "      <th>13</th>\n",
       "      <td>purpose:car</td>\n",
       "      <td>-2.913580e-03</td>\n",
       "      <td>0.643</td>\n",
       "    </tr>\n",
       "    <tr>\n",
       "      <th>14</th>\n",
       "      <td>purpose:debt_consolidation</td>\n",
       "      <td>1.032614e-04</td>\n",
       "      <td>0.956</td>\n",
       "    </tr>\n",
       "    <tr>\n",
       "      <th>15</th>\n",
       "      <td>purpose:educational</td>\n",
       "      <td>7.616802e-02</td>\n",
       "      <td>0.000</td>\n",
       "    </tr>\n",
       "    <tr>\n",
       "      <th>16</th>\n",
       "      <td>purpose:home_improvement</td>\n",
       "      <td>-3.691947e-03</td>\n",
       "      <td>0.274</td>\n",
       "    </tr>\n",
       "    <tr>\n",
       "      <th>17</th>\n",
       "      <td>purpose:house</td>\n",
       "      <td>-3.701725e-03</td>\n",
       "      <td>0.628</td>\n",
       "    </tr>\n",
       "    <tr>\n",
       "      <th>18</th>\n",
       "      <td>purpose:major_purchase</td>\n",
       "      <td>2.915642e-03</td>\n",
       "      <td>0.537</td>\n",
       "    </tr>\n",
       "    <tr>\n",
       "      <th>19</th>\n",
       "      <td>purpose:medical</td>\n",
       "      <td>1.082435e-02</td>\n",
       "      <td>0.073</td>\n",
       "    </tr>\n",
       "    <tr>\n",
       "      <th>20</th>\n",
       "      <td>purpose:moving</td>\n",
       "      <td>1.400016e-02</td>\n",
       "      <td>0.038</td>\n",
       "    </tr>\n",
       "    <tr>\n",
       "      <th>21</th>\n",
       "      <td>purpose:other</td>\n",
       "      <td>4.889449e-03</td>\n",
       "      <td>0.105</td>\n",
       "    </tr>\n",
       "    <tr>\n",
       "      <th>22</th>\n",
       "      <td>purpose:renewable_energy</td>\n",
       "      <td>2.425100e-02</td>\n",
       "      <td>0.141</td>\n",
       "    </tr>\n",
       "    <tr>\n",
       "      <th>23</th>\n",
       "      <td>purpose:small_business</td>\n",
       "      <td>7.529936e-04</td>\n",
       "      <td>0.842</td>\n",
       "    </tr>\n",
       "    <tr>\n",
       "      <th>24</th>\n",
       "      <td>purpose:vacation</td>\n",
       "      <td>-2.998757e-03</td>\n",
       "      <td>0.731</td>\n",
       "    </tr>\n",
       "    <tr>\n",
       "      <th>25</th>\n",
       "      <td>purpose:wedding</td>\n",
       "      <td>2.051574e-02</td>\n",
       "      <td>0.005</td>\n",
       "    </tr>\n",
       "    <tr>\n",
       "      <th>26</th>\n",
       "      <td>initial_list_status:w</td>\n",
       "      <td>1.442576e-02</td>\n",
       "      <td>0.000</td>\n",
       "    </tr>\n",
       "    <tr>\n",
       "      <th>27</th>\n",
       "      <td>term_int</td>\n",
       "      <td>3.297922e-04</td>\n",
       "      <td>0.021</td>\n",
       "    </tr>\n",
       "    <tr>\n",
       "      <th>28</th>\n",
       "      <td>emp_length_int</td>\n",
       "      <td>8.879563e-05</td>\n",
       "      <td>0.629</td>\n",
       "    </tr>\n",
       "    <tr>\n",
       "      <th>29</th>\n",
       "      <td>mths_since_issue_d</td>\n",
       "      <td>-1.553984e-03</td>\n",
       "      <td>0.000</td>\n",
       "    </tr>\n",
       "    <tr>\n",
       "      <th>30</th>\n",
       "      <td>mths_since_earliest_cr_line</td>\n",
       "      <td>3.504241e-05</td>\n",
       "      <td>0.000</td>\n",
       "    </tr>\n",
       "    <tr>\n",
       "      <th>31</th>\n",
       "      <td>funded_amnt</td>\n",
       "      <td>-2.026495e-07</td>\n",
       "      <td>0.720</td>\n",
       "    </tr>\n",
       "    <tr>\n",
       "      <th>32</th>\n",
       "      <td>int_rate</td>\n",
       "      <td>-2.539466e-03</td>\n",
       "      <td>0.000</td>\n",
       "    </tr>\n",
       "    <tr>\n",
       "      <th>33</th>\n",
       "      <td>installment</td>\n",
       "      <td>-1.078478e-05</td>\n",
       "      <td>0.541</td>\n",
       "    </tr>\n",
       "    <tr>\n",
       "      <th>34</th>\n",
       "      <td>annual_inc</td>\n",
       "      <td>6.359065e-08</td>\n",
       "      <td>0.001</td>\n",
       "    </tr>\n",
       "    <tr>\n",
       "      <th>35</th>\n",
       "      <td>dti</td>\n",
       "      <td>1.741738e-04</td>\n",
       "      <td>0.074</td>\n",
       "    </tr>\n",
       "    <tr>\n",
       "      <th>36</th>\n",
       "      <td>delinq_2yrs</td>\n",
       "      <td>1.731726e-03</td>\n",
       "      <td>0.054</td>\n",
       "    </tr>\n",
       "    <tr>\n",
       "      <th>37</th>\n",
       "      <td>inq_last_6mths</td>\n",
       "      <td>1.272434e-03</td>\n",
       "      <td>0.018</td>\n",
       "    </tr>\n",
       "    <tr>\n",
       "      <th>38</th>\n",
       "      <td>mths_since_last_delinq</td>\n",
       "      <td>-1.482699e-06</td>\n",
       "      <td>0.961</td>\n",
       "    </tr>\n",
       "    <tr>\n",
       "      <th>39</th>\n",
       "      <td>mths_since_last_record</td>\n",
       "      <td>-5.562032e-05</td>\n",
       "      <td>0.180</td>\n",
       "    </tr>\n",
       "    <tr>\n",
       "      <th>40</th>\n",
       "      <td>open_acc</td>\n",
       "      <td>-1.194037e-03</td>\n",
       "      <td>0.000</td>\n",
       "    </tr>\n",
       "    <tr>\n",
       "      <th>41</th>\n",
       "      <td>pub_rec</td>\n",
       "      <td>3.349082e-03</td>\n",
       "      <td>0.221</td>\n",
       "    </tr>\n",
       "    <tr>\n",
       "      <th>42</th>\n",
       "      <td>total_acc</td>\n",
       "      <td>4.757193e-04</td>\n",
       "      <td>0.000</td>\n",
       "    </tr>\n",
       "    <tr>\n",
       "      <th>43</th>\n",
       "      <td>acc_now_delinq</td>\n",
       "      <td>4.195550e-03</td>\n",
       "      <td>0.664</td>\n",
       "    </tr>\n",
       "    <tr>\n",
       "      <th>44</th>\n",
       "      <td>total_rev_hi_lim</td>\n",
       "      <td>2.235021e-07</td>\n",
       "      <td>0.000</td>\n",
       "    </tr>\n",
       "  </tbody>\n",
       "</table>\n",
       "</div>"
      ],
      "text/plain": [
       "                           Feature name  Coefficients  p_values\n",
       "0                             Intercept  2.409222e-01       NaN\n",
       "1                               grade:A -6.804653e-02     0.000\n",
       "2                               grade:B -5.067942e-02     0.000\n",
       "3                               grade:C -3.739224e-02     0.000\n",
       "4                               grade:D -2.712438e-02     0.000\n",
       "5                               grade:E -1.314241e-02     0.002\n",
       "6                               grade:F -5.230491e-03     0.277\n",
       "7               home_ownership:MORTGAGE  2.832918e-03     0.060\n",
       "8                   home_ownership:NONE  1.461056e-01     0.000\n",
       "9                  home_ownership:OTHER -9.396799e-03     0.646\n",
       "10                   home_ownership:OWN  4.974166e-03     0.041\n",
       "11     verification_status:Not Verified  1.037018e-03     0.560\n",
       "12  verification_status:Source Verified -1.075936e-03     0.509\n",
       "13                          purpose:car -2.913580e-03     0.643\n",
       "14           purpose:debt_consolidation  1.032614e-04     0.956\n",
       "15                  purpose:educational  7.616802e-02     0.000\n",
       "16             purpose:home_improvement -3.691947e-03     0.274\n",
       "17                        purpose:house -3.701725e-03     0.628\n",
       "18               purpose:major_purchase  2.915642e-03     0.537\n",
       "19                      purpose:medical  1.082435e-02     0.073\n",
       "20                       purpose:moving  1.400016e-02     0.038\n",
       "21                        purpose:other  4.889449e-03     0.105\n",
       "22             purpose:renewable_energy  2.425100e-02     0.141\n",
       "23               purpose:small_business  7.529936e-04     0.842\n",
       "24                     purpose:vacation -2.998757e-03     0.731\n",
       "25                      purpose:wedding  2.051574e-02     0.005\n",
       "26                initial_list_status:w  1.442576e-02     0.000\n",
       "27                             term_int  3.297922e-04     0.021\n",
       "28                       emp_length_int  8.879563e-05     0.629\n",
       "29                   mths_since_issue_d -1.553984e-03     0.000\n",
       "30          mths_since_earliest_cr_line  3.504241e-05     0.000\n",
       "31                          funded_amnt -2.026495e-07     0.720\n",
       "32                             int_rate -2.539466e-03     0.000\n",
       "33                          installment -1.078478e-05     0.541\n",
       "34                           annual_inc  6.359065e-08     0.001\n",
       "35                                  dti  1.741738e-04     0.074\n",
       "36                          delinq_2yrs  1.731726e-03     0.054\n",
       "37                       inq_last_6mths  1.272434e-03     0.018\n",
       "38               mths_since_last_delinq -1.482699e-06     0.961\n",
       "39               mths_since_last_record -5.562032e-05     0.180\n",
       "40                             open_acc -1.194037e-03     0.000\n",
       "41                              pub_rec  3.349082e-03     0.221\n",
       "42                            total_acc  4.757193e-04     0.000\n",
       "43                       acc_now_delinq  4.195550e-03     0.664\n",
       "44                     total_rev_hi_lim  2.235021e-07     0.000"
      ]
     },
     "execution_count": 54,
     "metadata": {},
     "output_type": "execute_result"
    }
   ],
   "source": [
    "summary_table"
   ]
  },
  {
   "cell_type": "markdown",
   "metadata": {},
   "source": [
    "จากตารางข้างบนพบว่า ค่า p-values ของตัวแปรจำนวนมากใน LGD stage 2 model นี้ มีนัยสำคัญทางสถิติ ซึ่งต่างจากตอนทำ LGD stage 1 model\n",
    "\n",
    "ค่าสัมประสิทธิ์ของ LGD stage 1 model (Logistic Regression) หมายความว่าทุกหนึ่งหน่วยของตัวแปรที่เพิ่มขึ้นจะทำให้ค่า ln(odds) เปลี่ยนไปเท่ากับค่าสัมประสิทธิ์ของตัวแปรนั้น\n",
    "\n",
    "แต่ค่าสัมประสิทธิ์ของ LGD stage 2 model (Linear Regression) ครั้งนี้ หมายความว่าทุกหนึ่งหน่วยของตัวแปรที่เพิ่มขึ้น จะทำให้ค่า recovery rate เปลี่ยนไปเท่ากับค่าสัมประสิทธิ์ของตัวแปรนั้น ซึ่งแปรผลได้ดังนี้\n",
    "\n",
    ">ยกตัวอย่าง: ถ้า purpose เป็น educational ค่า recovery rate จะเพิ่มขึ้น 7.616802e-02 หรือ 7.62%\n",
    ">\n",
    ">ยกตัวอย่าง: ทุกหนึ่งหน่วย (1 USD) ของ annual_inc (รายรับต่อปีของผู้ขอกู้) ที่เพิ่มขึ้น ค่า recovery rate จะเพิ่มขึ้น 6.359065e-08 หรือ 0.00000636%\n",
    ">\n",
    ">ยกตัวอย่าง: ทุกหนึ่งหน่วย (1%) ของ int_rate (อัตราดอกเบี้ย) ที่เพิ่มขึ้น ค่า recovery rate จะลดลง 2.539466e-03 หรือ 0.254%"
   ]
  },
  {
   "cell_type": "markdown",
   "metadata": {},
   "source": [
    "### Testing the Model (LGD stage 2 model)"
   ]
  },
  {
   "cell_type": "markdown",
   "metadata": {},
   "source": [
    "เลือกเก็บเฉพาะตัวแปรที่ต้องการใช้เท่านั้น:"
   ]
  },
  {
   "cell_type": "code",
   "execution_count": 55,
   "metadata": {},
   "outputs": [],
   "source": [
    "lgd_inputs_stage_2_test = lgd_inputs_stage_2_test[features_all]"
   ]
  },
  {
   "cell_type": "markdown",
   "metadata": {},
   "source": [
    "ทำการ drop ตัวแปรที่เป็น dummy variable reference categories:"
   ]
  },
  {
   "cell_type": "code",
   "execution_count": 56,
   "metadata": {},
   "outputs": [],
   "source": [
    "lgd_inputs_stage_2_test = lgd_inputs_stage_2_test.drop(features_reference_cat, axis = 1)"
   ]
  },
  {
   "cell_type": "code",
   "execution_count": 57,
   "metadata": {
    "scrolled": true
   },
   "outputs": [
    {
     "data": {
      "text/plain": [
       "array(['grade:A', 'grade:B', 'grade:C', 'grade:D', 'grade:E', 'grade:F',\n",
       "       'home_ownership:MORTGAGE', 'home_ownership:NONE',\n",
       "       'home_ownership:OTHER', 'home_ownership:OWN',\n",
       "       'verification_status:Not Verified',\n",
       "       'verification_status:Source Verified', 'purpose:car',\n",
       "       'purpose:debt_consolidation', 'purpose:educational',\n",
       "       'purpose:home_improvement', 'purpose:house',\n",
       "       'purpose:major_purchase', 'purpose:medical', 'purpose:moving',\n",
       "       'purpose:other', 'purpose:renewable_energy',\n",
       "       'purpose:small_business', 'purpose:vacation', 'purpose:wedding',\n",
       "       'initial_list_status:w', 'term_int', 'emp_length_int',\n",
       "       'mths_since_issue_d', 'mths_since_earliest_cr_line', 'funded_amnt',\n",
       "       'int_rate', 'installment', 'annual_inc', 'dti', 'delinq_2yrs',\n",
       "       'inq_last_6mths', 'mths_since_last_delinq',\n",
       "       'mths_since_last_record', 'open_acc', 'pub_rec', 'total_acc',\n",
       "       'acc_now_delinq', 'total_rev_hi_lim'], dtype=object)"
      ]
     },
     "execution_count": 57,
     "metadata": {},
     "output_type": "execute_result"
    }
   ],
   "source": [
    "lgd_inputs_stage_2_test.columns.values"
   ]
  },
  {
   "cell_type": "markdown",
   "metadata": {},
   "source": [
    "ทำการทำนายค่า recovery rate กับการกู้ยืมที่มีค่า recovery rate มากกว่า 0 (lgd_inputs_stage_2_test):"
   ]
  },
  {
   "cell_type": "code",
   "execution_count": 58,
   "metadata": {},
   "outputs": [],
   "source": [
    "y_hat_test_lgd_stage_2 = reg_lgd_st_2.predict(lgd_inputs_stage_2_test)"
   ]
  },
  {
   "cell_type": "markdown",
   "metadata": {},
   "source": [
    "Reset index ของ DataFrame ของค่าจริง เพื่อให้ index ตรงกับ DataFrame ของค่าทำนาย:"
   ]
  },
  {
   "cell_type": "code",
   "execution_count": 59,
   "metadata": {},
   "outputs": [],
   "source": [
    "lgd_targets_stage_2_test_temp = lgd_targets_stage_2_test"
   ]
  },
  {
   "cell_type": "code",
   "execution_count": 60,
   "metadata": {},
   "outputs": [],
   "source": [
    "lgd_targets_stage_2_test_temp = lgd_targets_stage_2_test_temp.reset_index(drop = True)"
   ]
  },
  {
   "cell_type": "markdown",
   "metadata": {},
   "source": [
    "ทำการประเมินประสิทธิภาพ model โดยหาค่าสหสัมพันธ์ (correlation) ระหว่างค่าจริง (lgd_targets_stage_2_test_temp) กับ ค่าทำนาย (y_hat_test_lgd_stage_2):"
   ]
  },
  {
   "cell_type": "code",
   "execution_count": 61,
   "metadata": {},
   "outputs": [
    {
     "data": {
      "text/html": [
       "<div>\n",
       "<style scoped>\n",
       "    .dataframe tbody tr th:only-of-type {\n",
       "        vertical-align: middle;\n",
       "    }\n",
       "\n",
       "    .dataframe tbody tr th {\n",
       "        vertical-align: top;\n",
       "    }\n",
       "\n",
       "    .dataframe thead th {\n",
       "        text-align: right;\n",
       "    }\n",
       "</style>\n",
       "<table border=\"1\" class=\"dataframe\">\n",
       "  <thead>\n",
       "    <tr style=\"text-align: right;\">\n",
       "      <th></th>\n",
       "      <th>recovery_rate</th>\n",
       "      <th>0</th>\n",
       "    </tr>\n",
       "  </thead>\n",
       "  <tbody>\n",
       "    <tr>\n",
       "      <th>recovery_rate</th>\n",
       "      <td>1.000000</td>\n",
       "      <td>0.309047</td>\n",
       "    </tr>\n",
       "    <tr>\n",
       "      <th>0</th>\n",
       "      <td>0.309047</td>\n",
       "      <td>1.000000</td>\n",
       "    </tr>\n",
       "  </tbody>\n",
       "</table>\n",
       "</div>"
      ],
      "text/plain": [
       "               recovery_rate         0\n",
       "recovery_rate       1.000000  0.309047\n",
       "0                   0.309047  1.000000"
      ]
     },
     "execution_count": 61,
     "metadata": {},
     "output_type": "execute_result"
    }
   ],
   "source": [
    "pd.concat([lgd_targets_stage_2_test_temp, pd.DataFrame(y_hat_test_lgd_stage_2)], axis = 1).corr()"
   ]
  },
  {
   "cell_type": "markdown",
   "metadata": {},
   "source": [
    "ค่าสหสัมพันธ์ (correlation) ระหว่างค่าจริงกับค่าทำนาย คือ 0.309047 ถือว่ามีสหสัมพันธ์เล็กน้อยถึงปานกลางซึ่งถือว่าน่าพอใจสำหรับ LDG model หากค่าสหสัมพันธ์สูงมากไป อาจหมายถึงมีขั้นตอนบางอย่างผิดปกติ"
   ]
  },
  {
   "cell_type": "markdown",
   "metadata": {},
   "source": [
    "ทำการประเมินประสิทธิภาพ model โดยวาดกราฟแสดงการกระจายตัวของผลต่างระหว่างค่าจริง (lgd_targets_stage_2_test) กับ ค่าทำนาย (y_hat_test_lgd_stage_2):"
   ]
  },
  {
   "cell_type": "code",
   "execution_count": 62,
   "metadata": {
    "scrolled": false
   },
   "outputs": [
    {
     "data": {
      "text/plain": [
       "<Axes: xlabel='recovery_rate', ylabel='Density'>"
      ]
     },
     "execution_count": 62,
     "metadata": {},
     "output_type": "execute_result"
    },
    {
     "data": {
      "image/png": "[encoded data removed]",
      "text/plain": [
       "<Figure size 640x480 with 1 Axes>"
      ]
     },
     "metadata": {},
     "output_type": "display_data"
    }
   ],
   "source": [
    "# Plot the distribution of the residuals.\n",
    "sns.distplot(lgd_targets_stage_2_test - y_hat_test_lgd_stage_2)"
   ]
  },
  {
   "cell_type": "markdown",
   "metadata": {},
   "source": [
    "จากกราฟข้างบนพบว่า การกระจายตัวของผลต่างระหว่างค่าจริงกับค่าทำนาย มีลักษณะเป็น normal distribution และผลต่างส่วนใหญ่มีการกระจายตัวค่อนข้างสมมาตร ณ บริเวณค่าเท่ากับ 0 และผลต่างส่วนใหญ่กระจุกอยู่ที่บริเวณค่าเท่ากับ 0 บ่งบอกว่า model นี้มีระเบียบวิธีที่ดี และมีความสามารถในการทำนายค่อนข้างดี"
   ]
  },
  {
   "cell_type": "markdown",
   "metadata": {},
   "source": [
    "### Saving the Model (LGD stage 2 model)"
   ]
  },
  {
   "cell_type": "markdown",
   "metadata": {},
   "source": [
    "บันทึก LGD model (stage 2) ลง disk:"
   ]
  },
  {
   "cell_type": "code",
   "execution_count": 63,
   "metadata": {},
   "outputs": [],
   "source": [
    "filehandler = open('./data/lgd_model_stage_2.pkl','wb')\n",
    "pickle.dump(reg_lgd_st_2,filehandler)\n",
    "filehandler.close()"
   ]
  },
  {
   "cell_type": "markdown",
   "metadata": {},
   "source": [
    "---"
   ]
  },
  {
   "cell_type": "markdown",
   "metadata": {},
   "source": [
    "## <font color='darkorange'>*Combining Stage 1 and Stage 2*</font>"
   ]
  },
  {
   "cell_type": "markdown",
   "metadata": {},
   "source": [
    "ทำการรวม LGD stage 1 model (Logistic Regression) กับ LGD stage 2 model (Linear Regression) เข้าด้วยกันเพื่อให้เป็น LGD model ตัวจริง"
   ]
  },
  {
   "cell_type": "markdown",
   "metadata": {},
   "source": [
    "ตอน LGD stage 2 model จะทำนายเฉพาะการกู้ยืมที่มีค่า recovery rate มากกว่า 0 เท่านั้น\n",
    "\n",
    "แต่ตอนนี้ จะทำการทำนายการกู้ยืมที่มีค่า recovery rate ทั้งเท่ากับ 0 และ มากกว่า 0 (นั่นคือ test input และ target จากการกู้ยืมทั้งหมด):"
   ]
  },
  {
   "cell_type": "code",
   "execution_count": 64,
   "metadata": {},
   "outputs": [],
   "source": [
    "y_hat_test_lgd_stage_2_all = reg_lgd_st_2.predict(lgd_inputs_stage_1_test)"
   ]
  },
  {
   "cell_type": "markdown",
   "metadata": {},
   "source": [
    "ผลการทำนายโดยใช้ LGD stage 2 model (โดยไม่สนว่า LGD stage 1 model จะทำนายเป็นเท่ากับ 0 หรือมากกว่า 0 หรือไม่):"
   ]
  },
  {
   "cell_type": "code",
   "execution_count": 65,
   "metadata": {},
   "outputs": [
    {
     "data": {
      "text/plain": [
       "array([0.11902462, 0.09642583, 0.13368658, ..., 0.12050299, 0.11563043,\n",
       "       0.15690616])"
      ]
     },
     "execution_count": 65,
     "metadata": {},
     "output_type": "execute_result"
    }
   ],
   "source": [
    "y_hat_test_lgd_stage_2_all"
   ]
  },
  {
   "cell_type": "markdown",
   "metadata": {},
   "source": [
    "ทำการรวมผลการทำนาย (โดยการคูณ) ทั้ง stage 1 และ stage 2 เข้าด้วยกัน จะได้คำตอบสุดท้ายของผลทำนายค่า recovery rate:"
   ]
  },
  {
   "cell_type": "code",
   "execution_count": 66,
   "metadata": {},
   "outputs": [],
   "source": [
    "y_hat_test_lgd = y_hat_test_lgd_stage_1 * y_hat_test_lgd_stage_2_all"
   ]
  },
  {
   "cell_type": "markdown",
   "metadata": {},
   "source": [
    "หาก LGD stage 1 model ทำนายว่า recovery rate = 0 จะได้ผลทำนายจาก stage 1 เป็น 0\n",
    "- เมื่อคูณกับผลทำนายจาก stage 2 จะได้คำตอบสุดท้าย เป็น `0`\n",
    "\n",
    "หาก LGD stage 1 model ทำนายว่า recovery rate > 0 จะได้ผลทำนายจาก stage 1 เป็น 1\n",
    "- เมื่อคูณกับผลทำนายจาก stage 2 จะได้คำตอบสุดท้าย เป็น `ผลทำนายจาก stage 2`"
   ]
  },
  {
   "cell_type": "markdown",
   "metadata": {},
   "source": [
    "แสดงสถิติของคำตอบสุดท้ายของผลทำนายค่า recovery rate:"
   ]
  },
  {
   "cell_type": "code",
   "execution_count": 67,
   "metadata": {
    "scrolled": false
   },
   "outputs": [
    {
     "data": {
      "text/html": [
       "<div>\n",
       "<style scoped>\n",
       "    .dataframe tbody tr th:only-of-type {\n",
       "        vertical-align: middle;\n",
       "    }\n",
       "\n",
       "    .dataframe tbody tr th {\n",
       "        vertical-align: top;\n",
       "    }\n",
       "\n",
       "    .dataframe thead th {\n",
       "        text-align: right;\n",
       "    }\n",
       "</style>\n",
       "<table border=\"1\" class=\"dataframe\">\n",
       "  <thead>\n",
       "    <tr style=\"text-align: right;\">\n",
       "      <th></th>\n",
       "      <th>0</th>\n",
       "    </tr>\n",
       "  </thead>\n",
       "  <tbody>\n",
       "    <tr>\n",
       "      <th>count</th>\n",
       "      <td>8648.000000</td>\n",
       "    </tr>\n",
       "    <tr>\n",
       "      <th>mean</th>\n",
       "      <td>0.072222</td>\n",
       "    </tr>\n",
       "    <tr>\n",
       "      <th>std</th>\n",
       "      <td>0.052778</td>\n",
       "    </tr>\n",
       "    <tr>\n",
       "      <th>min</th>\n",
       "      <td>-0.008234</td>\n",
       "    </tr>\n",
       "    <tr>\n",
       "      <th>25%</th>\n",
       "      <td>0.000000</td>\n",
       "    </tr>\n",
       "    <tr>\n",
       "      <th>50%</th>\n",
       "      <td>0.089669</td>\n",
       "    </tr>\n",
       "    <tr>\n",
       "      <th>75%</th>\n",
       "      <td>0.114742</td>\n",
       "    </tr>\n",
       "    <tr>\n",
       "      <th>max</th>\n",
       "      <td>0.237000</td>\n",
       "    </tr>\n",
       "  </tbody>\n",
       "</table>\n",
       "</div>"
      ],
      "text/plain": [
       "                 0\n",
       "count  8648.000000\n",
       "mean      0.072222\n",
       "std       0.052778\n",
       "min      -0.008234\n",
       "25%       0.000000\n",
       "50%       0.089669\n",
       "75%       0.114742\n",
       "max       0.237000"
      ]
     },
     "execution_count": 67,
     "metadata": {},
     "output_type": "execute_result"
    }
   ],
   "source": [
    "pd.DataFrame(y_hat_test_lgd).describe()"
   ]
  },
  {
   "cell_type": "markdown",
   "metadata": {},
   "source": [
    "จากสถิติข้างบน ค่าต่ำสุดติดลบ แสดงว่ามีค่าติดลบบางอันอยู่ในผลการทำนาย เนื่องจาก linear regression model ไม่ได้ถูกจำกัดไว้ว่าต้องให้ output อยู่ระหว่าง 0 ถึง 1 เท่านั้น แม้ว่าข้อมูลที่นำมา train จะอยู่ระหว่าง 0 ถึง 1 ก็ตาม\n",
    "\n",
    "ดังนั้น จึงต้องตัดค่าที่อยู่นอกพิสัย 0 ถึง 1 ให้เท่ากับ 0 หรือ 1 (นั่นคือ มากกว่า 1 ให้เปลี่ยนเป็น 1 และ น้อยกว่า 0 ให้เปลี่ยนเป็น 0):"
   ]
  },
  {
   "cell_type": "code",
   "execution_count": 68,
   "metadata": {},
   "outputs": [],
   "source": [
    "y_hat_test_lgd = np.where(y_hat_test_lgd < 0, 0, y_hat_test_lgd)\n",
    "y_hat_test_lgd = np.where(y_hat_test_lgd > 1, 1, y_hat_test_lgd)"
   ]
  },
  {
   "cell_type": "markdown",
   "metadata": {},
   "source": [
    "แสดงสถิติของคำตอบสุดท้ายของผลทำนายค่า recovery rate:"
   ]
  },
  {
   "cell_type": "code",
   "execution_count": 69,
   "metadata": {},
   "outputs": [
    {
     "data": {
      "text/html": [
       "<div>\n",
       "<style scoped>\n",
       "    .dataframe tbody tr th:only-of-type {\n",
       "        vertical-align: middle;\n",
       "    }\n",
       "\n",
       "    .dataframe tbody tr th {\n",
       "        vertical-align: top;\n",
       "    }\n",
       "\n",
       "    .dataframe thead th {\n",
       "        text-align: right;\n",
       "    }\n",
       "</style>\n",
       "<table border=\"1\" class=\"dataframe\">\n",
       "  <thead>\n",
       "    <tr style=\"text-align: right;\">\n",
       "      <th></th>\n",
       "      <th>0</th>\n",
       "    </tr>\n",
       "  </thead>\n",
       "  <tbody>\n",
       "    <tr>\n",
       "      <th>count</th>\n",
       "      <td>8648.000000</td>\n",
       "    </tr>\n",
       "    <tr>\n",
       "      <th>mean</th>\n",
       "      <td>0.072225</td>\n",
       "    </tr>\n",
       "    <tr>\n",
       "      <th>std</th>\n",
       "      <td>0.052775</td>\n",
       "    </tr>\n",
       "    <tr>\n",
       "      <th>min</th>\n",
       "      <td>0.000000</td>\n",
       "    </tr>\n",
       "    <tr>\n",
       "      <th>25%</th>\n",
       "      <td>0.000000</td>\n",
       "    </tr>\n",
       "    <tr>\n",
       "      <th>50%</th>\n",
       "      <td>0.089669</td>\n",
       "    </tr>\n",
       "    <tr>\n",
       "      <th>75%</th>\n",
       "      <td>0.114742</td>\n",
       "    </tr>\n",
       "    <tr>\n",
       "      <th>max</th>\n",
       "      <td>0.237000</td>\n",
       "    </tr>\n",
       "  </tbody>\n",
       "</table>\n",
       "</div>"
      ],
      "text/plain": [
       "                 0\n",
       "count  8648.000000\n",
       "mean      0.072225\n",
       "std       0.052775\n",
       "min       0.000000\n",
       "25%       0.000000\n",
       "50%       0.089669\n",
       "75%       0.114742\n",
       "max       0.237000"
      ]
     },
     "execution_count": 69,
     "metadata": {},
     "output_type": "execute_result"
    }
   ],
   "source": [
    "pd.DataFrame(y_hat_test_lgd).describe()"
   ]
  },
  {
   "cell_type": "markdown",
   "metadata": {},
   "source": [
    "จากสถิติข้างบน ตอนนี้คำตอบสุดท้ายของผลทำนายค่า recovery rate อยู่ระหว่าง 0 ถึง 1 แล้ว"
   ]
  },
  {
   "cell_type": "markdown",
   "metadata": {},
   "source": [
    "---\n",
    "\n",
    "# End of notebook.\n",
    "\n",
    "---"
   ]
  },
  {
   "cell_type": "code",
   "execution_count": null,
   "metadata": {},
   "outputs": [],
   "source": []
  }
 ],
 "metadata": {
  "kernelspec": {
   "display_name": "Python 3 (ipykernel)",
   "language": "python",
   "name": "python3"
  },
  "language_info": {
   "codemirror_mode": {
    "name": "ipython",
    "version": 3
   },
   "file_extension": ".py",
   "mimetype": "text/x-python",
   "name": "python",
   "nbconvert_exporter": "python",
   "pygments_lexer": "ipython3",
   "version": "3.11.5"
  }
 },
 "nbformat": 4,
 "nbformat_minor": 2
}
